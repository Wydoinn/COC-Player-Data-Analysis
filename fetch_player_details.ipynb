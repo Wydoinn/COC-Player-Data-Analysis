{
 "cells": [
  {
   "cell_type": "markdown",
   "metadata": {},
   "source": [
    "# Downloading Players Data of Clash of Clans\n",
    "\n",
    "Clash of Clans API: https://developer.clashofclans.com/#/account\n",
    "\n",
    "To access data for your project, first register an account on the project's developer site. Following login, the next step involves creating an API key. This key allows for the retrieval of project data, facilitating the development of applications or analysis based on the project's information."
   ]
  },
  {
   "cell_type": "markdown",
   "metadata": {},
   "source": [
    "# GET /clans\n",
    "\n",
    "Clash of Clans Documents: https://developer.clashofclans.com/#/documentation\n",
    "\n",
    "## Search clans\n",
    "\n",
    "Search all clans by name and/or filtering the results using various criteria. At least one filtering criteria must be defined and if name is used as part of search, it is required to be at least three characters long. It is not possible to specify ordering for results so clients should not rely on any specific ordering as that may change in future releases of the API.\n",
    "\n",
    "## Parameters\n",
    "\n",
    "| Name | Type | In | Description |\n",
    "|------|------|----|----|\n",
    "| name | string | query | Search clans by name. If name is used as part of search query, it needs to be at least three characters long. Name search parameter is interpreted as wild card search, so it may appear anywhere in the clan name. |\n",
    "| warFrequency | string | query | Filter by clan war frequency |\n",
    "| locationId | integer | query | Filter by clan location identifier. For list of available locations, refer to getLocations operation. |\n",
    "| minMembers | integer | query | Filter by minimum number of clan members |\n",
    "| maxMembers | integer | query | Filter by maximum number of clan members |\n",
    "| minClanPoints | integer | query | Filter by minimum amount of clan points. |\n",
    "| minClanLevel | integer | query | Filter by minimum clan level. |\n",
    "| limit | integer | query | Limit the number of items returned in the response. |\n",
    "| after | string | query | Return only items that occur after this marker. Before marker can be found from the response, inside the 'paging' property. Note that only after or before can be specified for a request, not both. |\n",
    "| before | string | query | Return only items that occur before this marker. Before marker can be found from the response, inside the 'paging' property. Note that only after or before can be specified for a request, not both. |\n",
    "| labelIds | string | query | Comma separated list of label IDs to use for filtering results. |\n",
    "\n",
    "\n",
    "**Obtain the JSON code and store it in the file clans.json.**"
   ]
  },
  {
   "cell_type": "code",
   "execution_count": 1,
   "metadata": {},
   "outputs": [],
   "source": [
    "import time\n",
    "import math\n",
    "import json\n",
    "import requests\n",
    "import logging\n",
    "import pandas as pd\n",
    "from concurrent.futures import ThreadPoolExecutor, as_completed\n",
    "from ratelimit import limits, sleep_and_retry\n",
    "from tqdm import tqdm"
   ]
  },
  {
   "cell_type": "markdown",
   "metadata": {},
   "source": [
    "# Extract Clans Tags"
   ]
  },
  {
   "cell_type": "code",
   "execution_count": 2,
   "metadata": {},
   "outputs": [
    {
     "name": "stdout",
     "output_type": "stream",
     "text": [
      "['#2QCVGYYRY', '#2YVUJJ00J', '#20G90JGLQ', '#V00PUJ8V', '#LY8U92LY', '#C8JLLGJ8', '#YQQJGVJL', '#Q8P8QVV0', '#2PVPCQ8YL', '#2PC0LQ09L', '#2GCRJ0L9Q', '#2GPVJ9V8J', '#GRPPJYY0', '#29L92L090', '#V2UQ808R', '#R0Q8RQRC', '#RVV9CQU0', '#YV9QGCLL', '#2Q8RU998Y', '#CRUPJGRY', '#2L8CCUQYV', '#2G0CV29VP', '#QR0JYRR0', '#J0GV8UV9', '#2QC8QVJUQ', '#299LP0YJU', '#2RYQY288', '#2G8VL2JJP', '#9V929YCJ', '#QYULJ2GL', '#2PR92YGG0', '#GPG2VQR8', '#LQ8PYLYC', '#LVCP2RR0', '#GP8QY2GU', '#22CYLRVUC', '#2G9GJ8Q0C', '#YR8QU0JY', '#2Q8LUCV8U', '#290JPLQ0U', '#P00PUU28', '#PQ2CCJL', '#JRRGU2P0', '#28208L2JU', '#2QLURQR9J', '#8L22PR0V', '#GVYJU2GR', '#JLQLPGPL', '#90J0P8JC', '#2RRY020PC', '#2QJUJPY9J', '#2QP9QLLVV', '#2PRV8RY82', '#2YUQJ8UQP', '#2QYUPJQ9R', '#202LVPR0V', '#RGR909GQ', '#RUG299L9', '#2RVJU80LY', '#UR9GYCL', '#2G00J9UPR', '#LJPLQGC0', '#C8JVR090', '#QVLCU20Q', '#GQR09YC', '#JURYYGPJ', '#2LCYYUU2G', '#U8Y8GU2Y', '#2Q8CJYGPU', '#VU0UQ8QV', '#2GL9L8RL2', '#2QJYLGVVC', '#2GYV992LU', '#2G09JPJPV', '#20Q00L0PU', '#LVVRYRQV', '#2GP22G0QQ', '#2LP9CUJV9', '#2828RJYRQ', '#2220YJPP', '#CJLQVG2V', '#LV8ULP0G', '#9JC08YY0', '#PGURR0JR', '#CVV2QY8U', '#UVCVLLY', '#28Y92LQUJ', '#2LPVVRJ09', '#2QLQJU0CC', '#2QRLR9LVJ', '#2G0RVY09', '#28RUPJ8U', '#2G8J0VUGG', '#2GJPRGCQV', '#GC0P2Q9L', '#CYV8V0C0', '#VYY2QJGL', '#Y29QUPVC', '#2GLCG9U8U', '#2Y8Q9QGRC', '#28QLCYLYJ', '#2Q0Q92YU0', '#29J0Y2LUY', '#2R0LVJPYR', '#2PP02C8C', '#YQRCPYUP', '#2R8VR8QR0', '#2YYCCVJP2', '#2QYVVRQGV', '#2L8Y82VR8', '#2PPYV8J0U', '#QPQVRU22', '#GGQ8Q2PQ', '#QLUYJV2C', '#29R9Y2L9V', '#2QGYV2UC9', '#2Q8Q9JCLP', '#2GYYQUVC0', '#2G92V0RUL', '#2PQ22Q0RQ', '#2L0VYQRQL', '#9GGRRY00', '#LUG0RPCU', '#2G0CYJVY2', '#9VLV2CLJ', '#2QLG92LJL', '#G2YGJCLL', '#LLJUL8Y8', '#2GQGLJ9QU', '#9G02G00J', '#2LJUYP02C', '#U22L2298', '#PCP8GVPJ', '#2Q2G0V292', '#8PGG0J9P', '#2YJ9PUQGP', '#2Q8QRLCJV', '#2LV8J9PQJ', '#8PLR0YJJ', '#2LPQV0YJV', '#2PQ99JRCL', '#29VVPL2UJ', '#9UUJJJUU', '#RJRGL92C', '#2QRL8JJ8P', '#2LPVPL090', '#292CQGUG0', '#2YC2U2GC2', '#GLQ82PVG', '#U9CVQR9G', '#2GU9LRVC8', '#2P0Q80R0V', '#VY0YJQG', '#QJ08YGQ', '#2Q8YRRUCQ', '#VU2QQC0J', '#QYUY228P', '#QLV00CR2', '#2L820CY9R', '#2Y8CJLQQC', '#Q0UG2CQV', '#2RCJCPVCY', '#2G9C882QG', '#P0LQ0RVP', '#28RJ80LRL', '#2YLP8L02C', '#2QQRYRG09', '#2Y2C8Y9VY', '#8VG80QJ8', '#PP8LY2C9', '#P9L8C8RP', '#LR9YCJQ0', '#P8ULPV2U', '#2QYLPLUJ0', '#P8CRVR', '#PURYYGPP', '#JVGJL90', '#2GYU09YYJ', '#YL8JG2Q2', '#2PRC0G9LV', '#2G2GG8CJ8', '#2YLRR8UYQ', '#29RPCV22Y', '#89PJPJCL', '#2PLV8PG90', '#20J99P8C0', '#YRL9VGJV', '#28P8YC8JJ', '#2QQLVG29Q', '#908JRQRU', '#2GVGLRRJ', '#LUGUJ2YG', '#LYJV0LUY', '#2PQU0UVQV', '#2LQYV29Y8', '#89GVQL0Y', '#RLRLRYR8', '#P9CLVR2', '#2QGJPCQQY', '#J2VULPJR', '#2QPLU088U', '#U82UCQY', '#VQRLVPQG', '#9VUPJVGV', '#2LGRQG2GR', '#2QGYLGYPG', '#2P0Q8LVJU', '#2GVPU8VY8', '#2L2UCGR0V', '#2RL8PC8JC', '#QRG8JRPU', '#8Q2VY8JY', '#29LJVG2Y2', '#JQJG2Q8V', '#2LY2UQYCP', '#2PUY8G8PP', '#2GPUPGJ02', '#RPCCPRC0', '#209UJQUP2', '#9JCGJLQY', '#9UQ8PPGU', '#2QPL2RQCL', '#22VUYLJRG', '#2L2Q9YJRJ', '#2Y09RQ9Y0', '#8QJ8L0PP', '#2LYGVQG8G', '#9RY0GLJG', '#QL9PQVP8', '#VLQCYY2G', '#VULU2C9', '#YJJCQUQG', '#PJVY22J', '#29CVU8928', '#QVYG2L88', '#2G98PGGQJ', '#2Q99J9CR', '#2YV9J88YY', '#JQ2CGP8Q', '#820L8LGY', '#2GGCP22VL', '#J9PUUVRQ', '#2QCVVCUC0', '#9290VVC8', '#292QPUPRV', '#2QJQVCVYQ', '#2QYYRJU0V', '#GRCY8J0P', '#PG89QU9G', '#2YCJ0JJRQ', '#Y9Y892G0', '#PGG2P0P2', '#2QG8G2VCV', '#2QVRLPJRJ', '#2GP8LVL89', '#U8YP09UU', '#8RLYLY2Y', '#2LRUURRP8', '#CQJ08GJR', '#PYCP2LV2', '#L0UVJULG', '#2PLPCUGUJ', '#PJG8YQJ2', '#LQPVJJQ9', '#2Y2GUYLLQ', '#2YVGQYRLR', '#2PLULL0U2', '#2Q0CCUYY', '#2PUYRJRYU', '#88CL92UC', '#9U0R9R8U', '#22GRRP0LV', '#CVLGR92', '#29C892JJP', '#2GU02Y82Y', '#2LJ89998R', '#CVRRCU09', '#2G0UVPCCR', '#RPLVVUPU', '#2YQ0PL0YV', '#PLQC8P9L', '#29RGJC8RL', '#2PLRLPYCR', '#2YG2GGC9', '#2YCL20QLR', '#9L200LJJ', '#2LQ2CQ88C', '#LJUP2QUY', '#PVPL20LU', '#LY22JUVV', '#828CCYUU', '#QC2YU9V0', '#RQRLJYUG', '#2PPGLRQ0', '#9LYULCYC', '#J8J08CY', '#2LJ8YJU2C', '#2L0RL8VUG', '#9CRYYRPY', '#PQQCQVJR', '#2GPUVR2RU', '#2092YLYPP', '#82J89CRV', '#L22R89CG', '#R28UU9Q', '#2G0C8P0CL', '#2LVQV90V9', '#VQG2ULUL', '#9GRRRUVP', '#2QY8P0YC9', '#2298R8JR', '#JR9RGV0G', '#9Q0RYL8V', '#2QC89UUP2', '#PV2LLLCR', '#2LC929PJ8', '#2GGGR99P2', '#G2V9QG88', '#Y2LJQGY8', '#QGLQ2YQL', '#2GG8Y9CJG', '#QVRUGYPL', '#2YY2J9LYP', '#2QLVYP0CY', '#2YJ2GU90R', '#G9PCV8QJ', '#2L2QPU9GP', '#RGVL9CLG', '#JR0JYQYV', '#9LQQLV9U', '#2Q82QQ8PY', '#2QJ2RPL9Q', '#2LGVU9CJ9', '#CG9J02RV', '#2LV8LJRJJ', '#2G22PCCL0', '#JYR2G2QV', '#982VCYUP', '#2Q09VPYJY', '#2R0QP2GRU', '#9Y8082RP', '#JL9QLP8Q', '#Y2YRJYCR', '#2G2QVYVYC', '#20G0QPUJ', '#20LQRQ9VU', '#L0JJURPY', '#2Q0VC8G2C', '#9JQ2VVC', '#89R8VYQJ', '#2YJY0RLVP', '#QRJL9V9L', '#P8LG20L2', '#VC9290PQ', '#P9CLQYU9', '#GVL0GGVU', '#2Q8Y8G8Y8', '#2P9L2JV20', '#90PCCUC', '#PCGGVP9', '#28RQ9U9U2', '#2Q8JQ2C0Y', '#2GPGCYY0Y', '#V82YC8C', '#22J82Y0Q', '#8P8GQLLQ', '#JPJJLYVQ', '#QPRGLR9U', '#280R0RQCQ', '#2QQ9UYQUR', '#9G90UGQ2', '#LPRCUCCJ', '#298GPJVVR', '#2RQQ2LJUL', '#2L8JL8JLY', '#29L092YJR', '#20QJJU822', '#28YYULGYQ', '#20GRYPR9J', '#2G0Q8V9LC', '#2G2JPJL20', '#C9J20JY', '#2LV8P98PQ', '#LP8PCLRG', '#2G98JURR8', '#RVGU8YJU', '#29Q0Y00R9', '#2Y98C20C', '#29RQPYQ89', '#9Q8URLQY', '#2QVQRJ9PC', '#2QYC2GCGL', '#QCVCQPVL', '#PQGRGRY0', '#2LLG9QVGR', '#2YJV9RRLV', '#2LR8Q98PY', '#2GRL2VJU2', '#20CJVRVLR', '#RJCPQLJJ', '#90PRCJ2J', '#2LPQ80CR9', '#28PUY89VR', '#8LRYPRVP', '#2GJQL98GY', '#2RCVU8U88', '#2Q922CJJC', '#P0J9PG8C', '#2YGUUCU9C', '#2PG9VR0Q2', '#29J2CJC9Q', '#GVQPJP9Y', '#U8LQG08Q', '#9P2JQP8V', '#2GLVQQJ90', '#9YYJJJGU', '#2YG8R9YJ0', '#LQGLVLYQ', '#RPLJJULP', '#UV0909Q0', '#2GGLUQJGP', '#2YG2V0RPP', '#2PCY0GJG', '#2G2GYCYV9', '#2QU8QJ92J', '#882UV82L', '#PGYRVCLR', '#PQVL28C', '#LPJULUPY', '#PLCJCQ9Y', '#LQVYRG2R', '#2LJCQYP28', '#CUPY99QQ', '#80VPVJJ0', '#2LRYPQUP9', '#2QU08RV9Q', '#2RPGVRGYV', '#2G008GQ02', '#Y8C92VRG', '#QV8UJGV8', '#2GG99R8P9', '#2PR9QQQC8', '#80229UG', '#YJUJGPR', '#YP2CLY0J', '#2YYLGRU8V', '#2YCC999UJ', '#PVRJ20VP', '#Q9U2C9PC', '#2LGYRP2V9', '#R2YC9JJ', '#2GPPQ2UQ0', '#2QCVLCQ20', '#2QVY0298L', '#2R9GCQU22', '#QRVY9QYR', '#2QR8QVQCY', '#2YUYU89U0', '#2L09QP928', '#28CQPYVR2', '#2UJV8PUV', '#Y8UGPYYC', '#LUUVGL', '#LVPCQQY2', '#2PCJPVLQV', '#PRQGCRC2', '#YCP2QVPL', '#2G9UYUGVY', '#2RC9JQRV0', '#LGJPP2GV', '#2QPQLGVGC', '#GC0JLYVY', '#2Q02L2288', '#28YR9JCLC', '#2QPPRYR29', '#2LU2QL9LY', '#GUY8UP2C', '#YV202J8J', '#29QPG9GVV', '#QJQL9JR', '#80QQR9VL', '#2GQQJCL99', '#8UPCCY8C', '#VVR9VCJY', '#Q2QCR8C9', '#QJ220RPG', '#2PPUCLCQL', '#28QQ09YR', '#P2YGRJ2C', '#2QGG8V2LV', '#2R89PGPQQ', '#PJYQ9882', '#P0UC20L0', '#G0LYG8YC', '#Q2990YU0', '#U0UUVPCU', '#2QRJCUQ09', '#LYLL8L9C', '#G990JGU9', '#2QYGY22R2', '#P0VV2CV9', '#2QQ80U99V', '#YPVQUC00', '#UP8P0JCQ', '#2G2LJPRL9', '#2LG20J008', '#Q2PURGJR', '#RCRR8UV8', '#GJU02RQR', '#2YR020RU0', '#2UL0282', '#UUC9LJPR', '#C0V9P0YL', '#QYGRJ0R9', '#8JC8V99Y', '#UJCYQ9L0', '#28UP2Q9YL', '#2QYQJU8LL', '#2LUYLLG0Y', '#U9VG9992', '#QUVQ2RPJ', '#20PGUCCPR', '#2QQPPPRQV', '#2QVQPLCYV', '#2R8RJU08P', '#2QY28RLL0', '#2G0YYPUR8', '#9GU28PCU', '#2QQCLUYJ8', '#2LJVGCJPG', '#2GCL8RULU', '#C0GRG09J', '#2QJPQ0YGL', '#9880UY0Y', '#90L0RCCR', '#2GQ9GYQYP', '#29P09RQR', '#2PRUU9VVQ', '#2GPCV8U2R', '#28Y0UJV2V', '#29PJ28UU', '#UQGV09Q', '#2YJ2QQLY', '#2LQLU228P', '#2Y0RCJ009', '#2QL2RUVY8', '#2G8PVVV80', '#UQGG0R8R', '#9R2U2Y2J', '#9GC0CV8Y', '#2L8098CCC', '#2QQ8Y08YU', '#YY9YLJUY', '#QLQPGCCY', '#229Q2YCC', '#PL0J80U9', '#LPQJQ992', '#JY08CGVG', '#2QQ0CJQJJ', '#2YVUQ88UV', '#PUY2GJPU', '#2QRGUVRLC', '#GVR02G8P', '#2LCR9VLJY', '#RCLQV9RU', '#YQUPP2LR', '#2LPRC9RCU', '#2C2UY20P', '#2PGLRLYC', '#2228L2QP', '#2Y0C00VR', '#2LLCPQY2Y', '#8JCGJYR0', '#QUC88PRP', '#2LQG2J08Y', '#R9QLJCVL', '#2YGJUCRGC', '#PC0LQ9CR', '#9UQ8PGYY', '#2GYQCRGRU', '#CVCCRGUR', '#2GLVPG2RY', '#20RPCCCLY', '#QQPJ2Y9U', '#82CLLPJL', '#29G0GL2PL', '#2YGYQ9ULP', '#9RJ82CGJ', '#PP9CCJY8', '#LJV9R82L', '#2QLPY89CQ', '#998P2R98', '#2QQQQYUGY', '#20QQJGGV9', '#P998JRCU', '#UYCQ0QGG', '#280GCCGRC', '#G0GYGQU2', '#LUP8L0L8', '#8GUY289L', '#29PQCU0Y', '#UVLLQ2L0', '#PUQUUQGU', '#UCGCCY0Y', '#28PQLY8R0', '#PRVPQV9P', '#CQ2VGVQG', '#2L8GQGPGU', '#2G2LVCCCU', '#2PQLLJL08', '#2LVVPQG08', '#RU99CVY', '#2LRQ0QL0P', '#LYGUVL8Q', '#8JCVV29P', '#Q2QRQUJ8', '#20VYCPV8R', '#PVC2QQV2', '#VPJGG0Y', '#2G28QPQQL', '#289UURQRQ', '#LC2V8YQ', '#2QUC2P8J8', '#UP0C0UGU', '#8LGQL8J0', '#YJ08YVJ2', '#L0C9098G', '#29V2V8YGY', '#CYU0G2Y', '#PRJJQ0C0', '#2G20LUJ9G', '#2LPQYJCYC', '#2P8ULU8UU', '#PJU0RL9L', '#8GQGG8PP', '#2Q0QUPJYG', '#2LLLCG2LC', '#2L0GUCL0R', '#2QQP0C9Y9', '#2908QRR2R', '#2R8CU0UJV', '#RCCJQCL0', '#2G2RRJLU9', '#RQ08V2RJ', '#29898PU9C', '#2PLC9QPJU', '#2YV292GRQ', '#8LPCJ0G0', '#8QUUPJJG', '#2LPCPG0CV', '#2GRVR2YL0', '#LCCQR8Y8', '#2YJV0L8U', '#2QJPGLPVR', '#CVJYV22J', '#2YPCU88L2', '#2QVU0RJCU', '#22090UQ2L', '#PRJVYL0R', '#2G20V2RRJ', '#RP9Y999J', '#PPYUJCRV', '#P9PJ0JJU', '#282RJGQG8', '#2PYRQG8GJ', '#2PUGGCGCU', '#G9CV08R2', '#2G0JVLQ2G', '#2PGPLQUPC', '#202JGYJYR', '#2GPR9UVRY', '#2YJQU8LY8', '#20LGGGPP2', '#2RGVPRGYR', '#2L0YV99Q0', '#2822UL8CL', '#2QQQVGQ0U', '#2G0QP2CVY', '#QYGYCLRQ', '#29PUQ9CPU', '#RVU09GV2', '#YGJCL8LJ', '#2LR0GJ0LJ', '#G00V0UPP', '#2LLPY0JLC', '#2Y2JURQP8', '#U9U8LQPU', '#2RRURURUJ', '#2922Y8J2G', '#80P9GL8L', '#LQLCC2', '#9092U8U', '#GQ0LP2RR', '#29Y992JQG', '#GVJUU9GC', '#2QRRJ9QQP', '#9YG8C0YC', '#VR2U9L8G', '#9GLPY0QV', '#2RRRPCLVY', '#2Q8J9JR9R', '#2LY2YR2LP', '#UR0VUC0Y', '#22VVPU8JQ', '#QLJG22GY', '#RP8G0QP9', '#22JGLY02C', '#Y9UPPLJG', '#RVGGCQU2', '#YJ0UCC2J', '#2Q9U9CYQL', '#2GU02V88Q', '#9GQYJ2LJ', '#2G9UVJ282', '#2YQLRGQ2L', '#QPJP8JJV', '#9P9LGLPP', '#2R28GCVP9', '#VPRQQG2L', '#L0PVJQ8G', '#CRQUCYUR', '#PC89G9L', '#2QQCCVQ0Y', '#2GLVUV8JP', '#2Q8P2GR02', '#2G0VGCG9R', '#88GL2C0C', '#CRGULGYC', '#2YRJQJQUQ', '#YP9JG8P8', '#2G0YVY99P', '#2CUVRYPQ', '#90QR9VVR', '#PQJ9VR90', '#GU9J2QU', '#89GPCY0', '#9L0QJ0GY', '#PL9Q00G9', '#C88CJUY0', '#2R0VJU8C0', '#2LRG08G9Q', '#UR2Y2089', '#QUUYQR08', '#RG0YJP82', '#J2VGP8JY', '#2LPY8J9LC', '#29LG9CYP9', '#Y09YG9CG', '#28Q9RYGJV', '#2Q8LCPVJ2', '#22LG8L9LQ', '#2Y8YLJYRC', '#V29JP2RL', '#RLJ0JYJ8', '#2Q20YLGJR', '#QQQ9JVG8', '#2LL28JC0P', '#C2YRUY28', '#2QVVY0J8C', '#2QVG0QRJQ', '#L92290QG', '#JRUVQYVY', '#2YU8UL9RJ', '#YPQ9YL9G', '#2LCRRLJ90', '#2Y82CLYCJ', '#2QRRGUVRU', '#2LV80LY2Q', '#22Q8VR8GG', '#JPRY0UU0', '#2LYUC09JU', '#2G0CG8UGC', '#9Q8U0Q8V', '#28LYGYY9C', '#22RLQVLR', '#PJ0U2GPU', '#2QLPUPLLV', '#YJCJ8QPJ', '#YJL0J8YQ', '#QL9UCV0J', '#LGLJUPC8', '#2GVQL092G', '#YUU8CJQY', '#LGPVGJRY', '#2LRQ09UR8', '#8PV99YVQ', '#2PGLGCYJL', '#2882JG808', '#GR8208JQ', '#2LV2LYV0G', '#2GYQPLR9R', '#YRP0JUGP', '#LVLQGGLL', '#YYCLP98G', '#20VQU028L', '#2YJGLR2GU', '#2P2R0P09C', '#2LJJ928GP', '#LGUULGGU', '#29G2YUCR8', '#CLJQP8GY', '#RGRQGL8C', '#2QYJ9R9UR', '#YCLU99QR', '#QCJRQQ2G', '#2L09GQ2Q0', '#2RPJJG9PP', '#2QG028V2J', '#2RRLCJYL0', '#2LY2LGCJY', '#2Y9LJYVJG', '#2QQQY2Y00', '#2QYC28U2U', '#2QP20R2G0', '#220R8UG00', '#VJ899CU2', '#99J8LPJC', '#2GP0VUVJ', '#99PRQLQ0', '#JU09GVQY', '#2QL298L2C', '#Q0LYYJVV', '#2P0L0G2PC', '#RGYGR0LG', '#JJR9YY80', '#JRQP88JG', '#RL0JRLJ2', '#8Y0QQPYY', '#L92J2R9Q', '#PRPJYV8P', '#208Y8U0C', '#2QLUQ8J98']\n"
     ]
    }
   ],
   "source": [
    "file_path = 'others/clans.json'\n",
    "\n",
    "# Function to open the file and extract tags, specifying the encoding\n",
    "def extract_tags_from_file(file_path):\n",
    "    with open(file_path, 'r', encoding='utf-8') as file:  # Specifying the encoding here\n",
    "        data = json.load(file)\n",
    "        return [item.get(\"tag\") for item in data.get(\"items\", [])]\n",
    "\n",
    "# Extract tags from the specified file\n",
    "try:\n",
    "    extracted_tags = extract_tags_from_file(file_path)\n",
    "    print(extracted_tags)\n",
    "    \n",
    "except UnicodeDecodeError as e:\n",
    "    print(f\"Error reading the file: {e}\")"
   ]
  },
  {
   "cell_type": "code",
   "execution_count": 3,
   "metadata": {},
   "outputs": [
    {
     "name": "stdout",
     "output_type": "stream",
     "text": [
      "['%232QCVGYYRY', '%232YVUJJ00J', '%2320G90JGLQ', '%23V00PUJ8V', '%23LY8U92LY', '%23C8JLLGJ8', '%23YQQJGVJL', '%23Q8P8QVV0', '%232PVPCQ8YL', '%232PC0LQ09L', '%232GCRJ0L9Q', '%232GPVJ9V8J', '%23GRPPJYY0', '%2329L92L090', '%23V2UQ808R', '%23R0Q8RQRC', '%23RVV9CQU0', '%23YV9QGCLL', '%232Q8RU998Y', '%23CRUPJGRY', '%232L8CCUQYV', '%232G0CV29VP', '%23QR0JYRR0', '%23J0GV8UV9', '%232QC8QVJUQ', '%23299LP0YJU', '%232RYQY288', '%232G8VL2JJP', '%239V929YCJ', '%23QYULJ2GL', '%232PR92YGG0', '%23GPG2VQR8', '%23LQ8PYLYC', '%23LVCP2RR0', '%23GP8QY2GU', '%2322CYLRVUC', '%232G9GJ8Q0C', '%23YR8QU0JY', '%232Q8LUCV8U', '%23290JPLQ0U', '%23P00PUU28', '%23PQ2CCJL', '%23JRRGU2P0', '%2328208L2JU', '%232QLURQR9J', '%238L22PR0V', '%23GVYJU2GR', '%23JLQLPGPL', '%2390J0P8JC', '%232RRY020PC', '%232QJUJPY9J', '%232QP9QLLVV', '%232PRV8RY82', '%232YUQJ8UQP', '%232QYUPJQ9R', '%23202LVPR0V', '%23RGR909GQ', '%23RUG299L9', '%232RVJU80LY', '%23UR9GYCL', '%232G00J9UPR', '%23LJPLQGC0', '%23C8JVR090', '%23QVLCU20Q', '%23GQR09YC', '%23JURYYGPJ', '%232LCYYUU2G', '%23U8Y8GU2Y', '%232Q8CJYGPU', '%23VU0UQ8QV', '%232GL9L8RL2', '%232QJYLGVVC', '%232GYV992LU', '%232G09JPJPV', '%2320Q00L0PU', '%23LVVRYRQV', '%232GP22G0QQ', '%232LP9CUJV9', '%232828RJYRQ', '%232220YJPP', '%23CJLQVG2V', '%23LV8ULP0G', '%239JC08YY0', '%23PGURR0JR', '%23CVV2QY8U', '%23UVCVLLY', '%2328Y92LQUJ', '%232LPVVRJ09', '%232QLQJU0CC', '%232QRLR9LVJ', '%232G0RVY09', '%2328RUPJ8U', '%232G8J0VUGG', '%232GJPRGCQV', '%23GC0P2Q9L', '%23CYV8V0C0', '%23VYY2QJGL', '%23Y29QUPVC', '%232GLCG9U8U', '%232Y8Q9QGRC', '%2328QLCYLYJ', '%232Q0Q92YU0', '%2329J0Y2LUY', '%232R0LVJPYR', '%232PP02C8C', '%23YQRCPYUP', '%232R8VR8QR0', '%232YYCCVJP2', '%232QYVVRQGV', '%232L8Y82VR8', '%232PPYV8J0U', '%23QPQVRU22', '%23GGQ8Q2PQ', '%23QLUYJV2C', '%2329R9Y2L9V', '%232QGYV2UC9', '%232Q8Q9JCLP', '%232GYYQUVC0', '%232G92V0RUL', '%232PQ22Q0RQ', '%232L0VYQRQL', '%239GGRRY00', '%23LUG0RPCU', '%232G0CYJVY2', '%239VLV2CLJ', '%232QLG92LJL', '%23G2YGJCLL', '%23LLJUL8Y8', '%232GQGLJ9QU', '%239G02G00J', '%232LJUYP02C', '%23U22L2298', '%23PCP8GVPJ', '%232Q2G0V292', '%238PGG0J9P', '%232YJ9PUQGP', '%232Q8QRLCJV', '%232LV8J9PQJ', '%238PLR0YJJ', '%232LPQV0YJV', '%232PQ99JRCL', '%2329VVPL2UJ', '%239UUJJJUU', '%23RJRGL92C', '%232QRL8JJ8P', '%232LPVPL090', '%23292CQGUG0', '%232YC2U2GC2', '%23GLQ82PVG', '%23U9CVQR9G', '%232GU9LRVC8', '%232P0Q80R0V', '%23VY0YJQG', '%23QJ08YGQ', '%232Q8YRRUCQ', '%23VU2QQC0J', '%23QYUY228P', '%23QLV00CR2', '%232L820CY9R', '%232Y8CJLQQC', '%23Q0UG2CQV', '%232RCJCPVCY', '%232G9C882QG', '%23P0LQ0RVP', '%2328RJ80LRL', '%232YLP8L02C', '%232QQRYRG09', '%232Y2C8Y9VY', '%238VG80QJ8', '%23PP8LY2C9', '%23P9L8C8RP', '%23LR9YCJQ0', '%23P8ULPV2U', '%232QYLPLUJ0', '%23P8CRVR', '%23PURYYGPP', '%23JVGJL90', '%232GYU09YYJ', '%23YL8JG2Q2', '%232PRC0G9LV', '%232G2GG8CJ8', '%232YLRR8UYQ', '%2329RPCV22Y', '%2389PJPJCL', '%232PLV8PG90', '%2320J99P8C0', '%23YRL9VGJV', '%2328P8YC8JJ', '%232QQLVG29Q', '%23908JRQRU', '%232GVGLRRJ', '%23LUGUJ2YG', '%23LYJV0LUY', '%232PQU0UVQV', '%232LQYV29Y8', '%2389GVQL0Y', '%23RLRLRYR8', '%23P9CLVR2', '%232QGJPCQQY', '%23J2VULPJR', '%232QPLU088U', '%23U82UCQY', '%23VQRLVPQG', '%239VUPJVGV', '%232LGRQG2GR', '%232QGYLGYPG', '%232P0Q8LVJU', '%232GVPU8VY8', '%232L2UCGR0V', '%232RL8PC8JC', '%23QRG8JRPU', '%238Q2VY8JY', '%2329LJVG2Y2', '%23JQJG2Q8V', '%232LY2UQYCP', '%232PUY8G8PP', '%232GPUPGJ02', '%23RPCCPRC0', '%23209UJQUP2', '%239JCGJLQY', '%239UQ8PPGU', '%232QPL2RQCL', '%2322VUYLJRG', '%232L2Q9YJRJ', '%232Y09RQ9Y0', '%238QJ8L0PP', '%232LYGVQG8G', '%239RY0GLJG', '%23QL9PQVP8', '%23VLQCYY2G', '%23VULU2C9', '%23YJJCQUQG', '%23PJVY22J', '%2329CVU8928', '%23QVYG2L88', '%232G98PGGQJ', '%232Q99J9CR', '%232YV9J88YY', '%23JQ2CGP8Q', '%23820L8LGY', '%232GGCP22VL', '%23J9PUUVRQ', '%232QCVVCUC0', '%239290VVC8', '%23292QPUPRV', '%232QJQVCVYQ', '%232QYYRJU0V', '%23GRCY8J0P', '%23PG89QU9G', '%232YCJ0JJRQ', '%23Y9Y892G0', '%23PGG2P0P2', '%232QG8G2VCV', '%232QVRLPJRJ', '%232GP8LVL89', '%23U8YP09UU', '%238RLYLY2Y', '%232LRUURRP8', '%23CQJ08GJR', '%23PYCP2LV2', '%23L0UVJULG', '%232PLPCUGUJ', '%23PJG8YQJ2', '%23LQPVJJQ9', '%232Y2GUYLLQ', '%232YVGQYRLR', '%232PLULL0U2', '%232Q0CCUYY', '%232PUYRJRYU', '%2388CL92UC', '%239U0R9R8U', '%2322GRRP0LV', '%23CVLGR92', '%2329C892JJP', '%232GU02Y82Y', '%232LJ89998R', '%23CVRRCU09', '%232G0UVPCCR', '%23RPLVVUPU', '%232YQ0PL0YV', '%23PLQC8P9L', '%2329RGJC8RL', '%232PLRLPYCR', '%232YG2GGC9', '%232YCL20QLR', '%239L200LJJ', '%232LQ2CQ88C', '%23LJUP2QUY', '%23PVPL20LU', '%23LY22JUVV', '%23828CCYUU', '%23QC2YU9V0', '%23RQRLJYUG', '%232PPGLRQ0', '%239LYULCYC', '%23J8J08CY', '%232LJ8YJU2C', '%232L0RL8VUG', '%239CRYYRPY', '%23PQQCQVJR', '%232GPUVR2RU', '%232092YLYPP', '%2382J89CRV', '%23L22R89CG', '%23R28UU9Q', '%232G0C8P0CL', '%232LVQV90V9', '%23VQG2ULUL', '%239GRRRUVP', '%232QY8P0YC9', '%232298R8JR', '%23JR9RGV0G', '%239Q0RYL8V', '%232QC89UUP2', '%23PV2LLLCR', '%232LC929PJ8', '%232GGGR99P2', '%23G2V9QG88', '%23Y2LJQGY8', '%23QGLQ2YQL', '%232GG8Y9CJG', '%23QVRUGYPL', '%232YY2J9LYP', '%232QLVYP0CY', '%232YJ2GU90R', '%23G9PCV8QJ', '%232L2QPU9GP', '%23RGVL9CLG', '%23JR0JYQYV', '%239LQQLV9U', '%232Q82QQ8PY', '%232QJ2RPL9Q', '%232LGVU9CJ9', '%23CG9J02RV', '%232LV8LJRJJ', '%232G22PCCL0', '%23JYR2G2QV', '%23982VCYUP', '%232Q09VPYJY', '%232R0QP2GRU', '%239Y8082RP', '%23JL9QLP8Q', '%23Y2YRJYCR', '%232G2QVYVYC', '%2320G0QPUJ', '%2320LQRQ9VU', '%23L0JJURPY', '%232Q0VC8G2C', '%239JQ2VVC', '%2389R8VYQJ', '%232YJY0RLVP', '%23QRJL9V9L', '%23P8LG20L2', '%23VC9290PQ', '%23P9CLQYU9', '%23GVL0GGVU', '%232Q8Y8G8Y8', '%232P9L2JV20', '%2390PCCUC', '%23PCGGVP9', '%2328RQ9U9U2', '%232Q8JQ2C0Y', '%232GPGCYY0Y', '%23V82YC8C', '%2322J82Y0Q', '%238P8GQLLQ', '%23JPJJLYVQ', '%23QPRGLR9U', '%23280R0RQCQ', '%232QQ9UYQUR', '%239G90UGQ2', '%23LPRCUCCJ', '%23298GPJVVR', '%232RQQ2LJUL', '%232L8JL8JLY', '%2329L092YJR', '%2320QJJU822', '%2328YYULGYQ', '%2320GRYPR9J', '%232G0Q8V9LC', '%232G2JPJL20', '%23C9J20JY', '%232LV8P98PQ', '%23LP8PCLRG', '%232G98JURR8', '%23RVGU8YJU', '%2329Q0Y00R9', '%232Y98C20C', '%2329RQPYQ89', '%239Q8URLQY', '%232QVQRJ9PC', '%232QYC2GCGL', '%23QCVCQPVL', '%23PQGRGRY0', '%232LLG9QVGR', '%232YJV9RRLV', '%232LR8Q98PY', '%232GRL2VJU2', '%2320CJVRVLR', '%23RJCPQLJJ', '%2390PRCJ2J', '%232LPQ80CR9', '%2328PUY89VR', '%238LRYPRVP', '%232GJQL98GY', '%232RCVU8U88', '%232Q922CJJC', '%23P0J9PG8C', '%232YGUUCU9C', '%232PG9VR0Q2', '%2329J2CJC9Q', '%23GVQPJP9Y', '%23U8LQG08Q', '%239P2JQP8V', '%232GLVQQJ90', '%239YYJJJGU', '%232YG8R9YJ0', '%23LQGLVLYQ', '%23RPLJJULP', '%23UV0909Q0', '%232GGLUQJGP', '%232YG2V0RPP', '%232PCY0GJG', '%232G2GYCYV9', '%232QU8QJ92J', '%23882UV82L', '%23PGYRVCLR', '%23PQVL28C', '%23LPJULUPY', '%23PLCJCQ9Y', '%23LQVYRG2R', '%232LJCQYP28', '%23CUPY99QQ', '%2380VPVJJ0', '%232LRYPQUP9', '%232QU08RV9Q', '%232RPGVRGYV', '%232G008GQ02', '%23Y8C92VRG', '%23QV8UJGV8', '%232GG99R8P9', '%232PR9QQQC8', '%2380229UG', '%23YJUJGPR', '%23YP2CLY0J', '%232YYLGRU8V', '%232YCC999UJ', '%23PVRJ20VP', '%23Q9U2C9PC', '%232LGYRP2V9', '%23R2YC9JJ', '%232GPPQ2UQ0', '%232QCVLCQ20', '%232QVY0298L', '%232R9GCQU22', '%23QRVY9QYR', '%232QR8QVQCY', '%232YUYU89U0', '%232L09QP928', '%2328CQPYVR2', '%232UJV8PUV', '%23Y8UGPYYC', '%23LUUVGL', '%23LVPCQQY2', '%232PCJPVLQV', '%23PRQGCRC2', '%23YCP2QVPL', '%232G9UYUGVY', '%232RC9JQRV0', '%23LGJPP2GV', '%232QPQLGVGC', '%23GC0JLYVY', '%232Q02L2288', '%2328YR9JCLC', '%232QPPRYR29', '%232LU2QL9LY', '%23GUY8UP2C', '%23YV202J8J', '%2329QPG9GVV', '%23QJQL9JR', '%2380QQR9VL', '%232GQQJCL99', '%238UPCCY8C', '%23VVR9VCJY', '%23Q2QCR8C9', '%23QJ220RPG', '%232PPUCLCQL', '%2328QQ09YR', '%23P2YGRJ2C', '%232QGG8V2LV', '%232R89PGPQQ', '%23PJYQ9882', '%23P0UC20L0', '%23G0LYG8YC', '%23Q2990YU0', '%23U0UUVPCU', '%232QRJCUQ09', '%23LYLL8L9C', '%23G990JGU9', '%232QYGY22R2', '%23P0VV2CV9', '%232QQ80U99V', '%23YPVQUC00', '%23UP8P0JCQ', '%232G2LJPRL9', '%232LG20J008', '%23Q2PURGJR', '%23RCRR8UV8', '%23GJU02RQR', '%232YR020RU0', '%232UL0282', '%23UUC9LJPR', '%23C0V9P0YL', '%23QYGRJ0R9', '%238JC8V99Y', '%23UJCYQ9L0', '%2328UP2Q9YL', '%232QYQJU8LL', '%232LUYLLG0Y', '%23U9VG9992', '%23QUVQ2RPJ', '%2320PGUCCPR', '%232QQPPPRQV', '%232QVQPLCYV', '%232R8RJU08P', '%232QY28RLL0', '%232G0YYPUR8', '%239GU28PCU', '%232QQCLUYJ8', '%232LJVGCJPG', '%232GCL8RULU', '%23C0GRG09J', '%232QJPQ0YGL', '%239880UY0Y', '%2390L0RCCR', '%232GQ9GYQYP', '%2329P09RQR', '%232PRUU9VVQ', '%232GPCV8U2R', '%2328Y0UJV2V', '%2329PJ28UU', '%23UQGV09Q', '%232YJ2QQLY', '%232LQLU228P', '%232Y0RCJ009', '%232QL2RUVY8', '%232G8PVVV80', '%23UQGG0R8R', '%239R2U2Y2J', '%239GC0CV8Y', '%232L8098CCC', '%232QQ8Y08YU', '%23YY9YLJUY', '%23QLQPGCCY', '%23229Q2YCC', '%23PL0J80U9', '%23LPQJQ992', '%23JY08CGVG', '%232QQ0CJQJJ', '%232YVUQ88UV', '%23PUY2GJPU', '%232QRGUVRLC', '%23GVR02G8P', '%232LCR9VLJY', '%23RCLQV9RU', '%23YQUPP2LR', '%232LPRC9RCU', '%232C2UY20P', '%232PGLRLYC', '%232228L2QP', '%232Y0C00VR', '%232LLCPQY2Y', '%238JCGJYR0', '%23QUC88PRP', '%232LQG2J08Y', '%23R9QLJCVL', '%232YGJUCRGC', '%23PC0LQ9CR', '%239UQ8PGYY', '%232GYQCRGRU', '%23CVCCRGUR', '%232GLVPG2RY', '%2320RPCCCLY', '%23QQPJ2Y9U', '%2382CLLPJL', '%2329G0GL2PL', '%232YGYQ9ULP', '%239RJ82CGJ', '%23PP9CCJY8', '%23LJV9R82L', '%232QLPY89CQ', '%23998P2R98', '%232QQQQYUGY', '%2320QQJGGV9', '%23P998JRCU', '%23UYCQ0QGG', '%23280GCCGRC', '%23G0GYGQU2', '%23LUP8L0L8', '%238GUY289L', '%2329PQCU0Y', '%23UVLLQ2L0', '%23PUQUUQGU', '%23UCGCCY0Y', '%2328PQLY8R0', '%23PRVPQV9P', '%23CQ2VGVQG', '%232L8GQGPGU', '%232G2LVCCCU', '%232PQLLJL08', '%232LVVPQG08', '%23RU99CVY', '%232LRQ0QL0P', '%23LYGUVL8Q', '%238JCVV29P', '%23Q2QRQUJ8', '%2320VYCPV8R', '%23PVC2QQV2', '%23VPJGG0Y', '%232G28QPQQL', '%23289UURQRQ', '%23LC2V8YQ', '%232QUC2P8J8', '%23UP0C0UGU', '%238LGQL8J0', '%23YJ08YVJ2', '%23L0C9098G', '%2329V2V8YGY', '%23CYU0G2Y', '%23PRJJQ0C0', '%232G20LUJ9G', '%232LPQYJCYC', '%232P8ULU8UU', '%23PJU0RL9L', '%238GQGG8PP', '%232Q0QUPJYG', '%232LLLCG2LC', '%232L0GUCL0R', '%232QQP0C9Y9', '%232908QRR2R', '%232R8CU0UJV', '%23RCCJQCL0', '%232G2RRJLU9', '%23RQ08V2RJ', '%2329898PU9C', '%232PLC9QPJU', '%232YV292GRQ', '%238LPCJ0G0', '%238QUUPJJG', '%232LPCPG0CV', '%232GRVR2YL0', '%23LCCQR8Y8', '%232YJV0L8U', '%232QJPGLPVR', '%23CVJYV22J', '%232YPCU88L2', '%232QVU0RJCU', '%2322090UQ2L', '%23PRJVYL0R', '%232G20V2RRJ', '%23RP9Y999J', '%23PPYUJCRV', '%23P9PJ0JJU', '%23282RJGQG8', '%232PYRQG8GJ', '%232PUGGCGCU', '%23G9CV08R2', '%232G0JVLQ2G', '%232PGPLQUPC', '%23202JGYJYR', '%232GPR9UVRY', '%232YJQU8LY8', '%2320LGGGPP2', '%232RGVPRGYR', '%232L0YV99Q0', '%232822UL8CL', '%232QQQVGQ0U', '%232G0QP2CVY', '%23QYGYCLRQ', '%2329PUQ9CPU', '%23RVU09GV2', '%23YGJCL8LJ', '%232LR0GJ0LJ', '%23G00V0UPP', '%232LLPY0JLC', '%232Y2JURQP8', '%23U9U8LQPU', '%232RRURURUJ', '%232922Y8J2G', '%2380P9GL8L', '%23LQLCC2', '%239092U8U', '%23GQ0LP2RR', '%2329Y992JQG', '%23GVJUU9GC', '%232QRRJ9QQP', '%239YG8C0YC', '%23VR2U9L8G', '%239GLPY0QV', '%232RRRPCLVY', '%232Q8J9JR9R', '%232LY2YR2LP', '%23UR0VUC0Y', '%2322VVPU8JQ', '%23QLJG22GY', '%23RP8G0QP9', '%2322JGLY02C', '%23Y9UPPLJG', '%23RVGGCQU2', '%23YJ0UCC2J', '%232Q9U9CYQL', '%232GU02V88Q', '%239GQYJ2LJ', '%232G9UVJ282', '%232YQLRGQ2L', '%23QPJP8JJV', '%239P9LGLPP', '%232R28GCVP9', '%23VPRQQG2L', '%23L0PVJQ8G', '%23CRQUCYUR', '%23PC89G9L', '%232QQCCVQ0Y', '%232GLVUV8JP', '%232Q8P2GR02', '%232G0VGCG9R', '%2388GL2C0C', '%23CRGULGYC', '%232YRJQJQUQ', '%23YP9JG8P8', '%232G0YVY99P', '%232CUVRYPQ', '%2390QR9VVR', '%23PQJ9VR90', '%23GU9J2QU', '%2389GPCY0', '%239L0QJ0GY', '%23PL9Q00G9', '%23C88CJUY0', '%232R0VJU8C0', '%232LRG08G9Q', '%23UR2Y2089', '%23QUUYQR08', '%23RG0YJP82', '%23J2VGP8JY', '%232LPY8J9LC', '%2329LG9CYP9', '%23Y09YG9CG', '%2328Q9RYGJV', '%232Q8LCPVJ2', '%2322LG8L9LQ', '%232Y8YLJYRC', '%23V29JP2RL', '%23RLJ0JYJ8', '%232Q20YLGJR', '%23QQQ9JVG8', '%232LL28JC0P', '%23C2YRUY28', '%232QVVY0J8C', '%232QVG0QRJQ', '%23L92290QG', '%23JRUVQYVY', '%232YU8UL9RJ', '%23YPQ9YL9G', '%232LCRRLJ90', '%232Y82CLYCJ', '%232QRRGUVRU', '%232LV80LY2Q', '%2322Q8VR8GG', '%23JPRY0UU0', '%232LYUC09JU', '%232G0CG8UGC', '%239Q8U0Q8V', '%2328LYGYY9C', '%2322RLQVLR', '%23PJ0U2GPU', '%232QLPUPLLV', '%23YJCJ8QPJ', '%23YJL0J8YQ', '%23QL9UCV0J', '%23LGLJUPC8', '%232GVQL092G', '%23YUU8CJQY', '%23LGPVGJRY', '%232LRQ09UR8', '%238PV99YVQ', '%232PGLGCYJL', '%232882JG808', '%23GR8208JQ', '%232LV2LYV0G', '%232GYQPLR9R', '%23YRP0JUGP', '%23LVLQGGLL', '%23YYCLP98G', '%2320VQU028L', '%232YJGLR2GU', '%232P2R0P09C', '%232LJJ928GP', '%23LGUULGGU', '%2329G2YUCR8', '%23CLJQP8GY', '%23RGRQGL8C', '%232QYJ9R9UR', '%23YCLU99QR', '%23QCJRQQ2G', '%232L09GQ2Q0', '%232RPJJG9PP', '%232QG028V2J', '%232RRLCJYL0', '%232LY2LGCJY', '%232Y9LJYVJG', '%232QQQY2Y00', '%232QYC28U2U', '%232QP20R2G0', '%23220R8UG00', '%23VJ899CU2', '%2399J8LPJC', '%232GP0VUVJ', '%2399PRQLQ0', '%23JU09GVQY', '%232QL298L2C', '%23Q0LYYJVV', '%232P0L0G2PC', '%23RGYGR0LG', '%23JJR9YY80', '%23JRQP88JG', '%23RL0JRLJ2', '%238Y0QQPYY', '%23L92J2R9Q', '%23PRPJYV8P', '%23208Y8U0C', '%232QLUQ8J98']\n"
     ]
    }
   ],
   "source": [
    "# the extracted clan tags have '#' in beigning we have to replace it with URL encode '%23'\n",
    "def update_tags(extracted_tags):\n",
    "    # Replace '#' with '%23' for each tag in the list\n",
    "    updated_tags = [tag.replace('#', '%23') for tag in extracted_tags]\n",
    "    return updated_tags\n",
    "\n",
    "# Get the updated list of tags\n",
    "updated_extracted_tags = update_tags(extracted_tags)\n",
    "\n",
    "# Print or return the updated list\n",
    "print(updated_extracted_tags)"
   ]
  },
  {
   "cell_type": "markdown",
   "metadata": {},
   "source": [
    "# Extract Players Tags"
   ]
  },
  {
   "cell_type": "code",
   "execution_count": 4,
   "metadata": {},
   "outputs": [
    {
     "name": "stdout",
     "output_type": "stream",
     "text": [
      "Clan members for %232QCVGYYRY: [{'tag': '#9Y8LQULQC', 'name': 'VE.HELL FORCES', 'role': 'coLeader', 'townHallLevel': 13, 'expLevel': 169, 'league': {'id': 29000000, 'name': 'Unranked', 'iconUrls': {'small': 'https://api-assets.clashofclans.com/leagues/72/e--YMyIexEQQhE4imLoJcwhYn6Uy8KqlgyY3_kFV6t4.png', 'tiny': 'https://api-assets.clashofclans.com/leagues/36/e--YMyIexEQQhE4imLoJcwhYn6Uy8KqlgyY3_kFV6t4.png'}}, 'trophies': 3073, 'builderBaseTrophies': 1954, 'clanRank': 1, 'previousClanRank': 1, 'donations': 265, 'donationsReceived': 0, 'playerHouse': {'elements': [{'type': 'ground', 'id': 82000002}, {'type': 'walls', 'id': 82000049}, {'type': 'roof', 'id': 82000017}, {'type': 'decoration', 'id': 82000062}]}, 'builderBaseLeague': {'id': 44000019, 'name': 'Copper League I'}}, {'tag': '#QJV29VQ02', 'name': 'kafeel4', 'role': 'coLeader', 'townHallLevel': 12, 'expLevel': 102, 'league': {'id': 29000013, 'name': 'Master League III', 'iconUrls': {'small': 'https://api-assets.clashofclans.com/leagues/72/pSXfKvBKSgtvfOY3xKkgFaRQi0WcE28s3X35ywbIluY.png', 'tiny': 'https://api-assets.clashofclans.com/leagues/36/pSXfKvBKSgtvfOY3xKkgFaRQi0WcE28s3X35ywbIluY.png', 'medium': 'https://api-assets.clashofclans.com/leagues/288/pSXfKvBKSgtvfOY3xKkgFaRQi0WcE28s3X35ywbIluY.png'}}, 'trophies': 2669, 'builderBaseTrophies': 1746, 'clanRank': 2, 'previousClanRank': 2, 'donations': 309, 'donationsReceived': 0, 'builderBaseLeague': {'id': 44000017, 'name': 'Copper League III'}}, {'tag': '#QJVGGV8R0', 'name': 'N-R', 'role': 'coLeader', 'townHallLevel': 16, 'expLevel': 101, 'league': {'id': 29000000, 'name': 'Unranked', 'iconUrls': {'small': 'https://api-assets.clashofclans.com/leagues/72/e--YMyIexEQQhE4imLoJcwhYn6Uy8KqlgyY3_kFV6t4.png', 'tiny': 'https://api-assets.clashofclans.com/leagues/36/e--YMyIexEQQhE4imLoJcwhYn6Uy8KqlgyY3_kFV6t4.png'}}, 'trophies': 2576, 'builderBaseTrophies': 1305, 'clanRank': 3, 'previousClanRank': 4, 'donations': 249, 'donationsReceived': 0, 'playerHouse': {'elements': [{'type': 'ground', 'id': 82000000}, {'type': 'walls', 'id': 82000048}, {'type': 'roof', 'id': 82000011}, {'type': 'decoration', 'id': 82000063}]}, 'builderBaseLeague': {'id': 44000013, 'name': 'Stone League II'}}, {'tag': '#L98YLG8Y8', 'name': 'Guz Rama', 'role': 'member', 'townHallLevel': 13, 'expLevel': 156, 'league': {'id': 29000000, 'name': 'Unranked', 'iconUrls': {'small': 'https://api-assets.clashofclans.com/leagues/72/e--YMyIexEQQhE4imLoJcwhYn6Uy8KqlgyY3_kFV6t4.png', 'tiny': 'https://api-assets.clashofclans.com/leagues/36/e--YMyIexEQQhE4imLoJcwhYn6Uy8KqlgyY3_kFV6t4.png'}}, 'trophies': 2564, 'builderBaseTrophies': 2892, 'clanRank': 4, 'previousClanRank': 3, 'donations': 60, 'donationsReceived': 405, 'playerHouse': {'elements': [{'type': 'ground', 'id': 82000002}, {'type': 'walls', 'id': 82000049}, {'type': 'roof', 'id': 82000032}, {'type': 'decoration', 'id': 82000066}]}, 'builderBaseLeague': {'id': 44000024, 'name': 'Iron League II'}}, {'tag': '#QJJU8G2RR', 'name': 'BoiledRavioli', 'role': 'member', 'townHallLevel': 11, 'expLevel': 97, 'league': {'id': 29000011, 'name': 'Crystal League II', 'iconUrls': {'small': 'https://api-assets.clashofclans.com/leagues/72/jhP36EhAA9n1ADafdQtCP-ztEAQjoRpY7cT8sU7SW8A.png', 'tiny': 'https://api-assets.clashofclans.com/leagues/36/jhP36EhAA9n1ADafdQtCP-ztEAQjoRpY7cT8sU7SW8A.png', 'medium': 'https://api-assets.clashofclans.com/leagues/288/jhP36EhAA9n1ADafdQtCP-ztEAQjoRpY7cT8sU7SW8A.png'}}, 'trophies': 2315, 'builderBaseTrophies': 2215, 'clanRank': 5, 'previousClanRank': 5, 'donations': 0, 'donationsReceived': 128, 'playerHouse': {'elements': [{'type': 'ground', 'id': 82000002}, {'type': 'walls', 'id': 82000049}, {'type': 'roof', 'id': 82000017}, {'type': 'decoration', 'id': 82000064}]}, 'builderBaseLeague': {'id': 44000021, 'name': 'Brass League II'}}, {'tag': '#9Y88QQGUQ', 'name': '6■●Gem6buL●■6', 'role': 'leader', 'townHallLevel': 12, 'expLevel': 142, 'league': {'id': 29000000, 'name': 'Unranked', 'iconUrls': {'small': 'https://api-assets.clashofclans.com/leagues/72/e--YMyIexEQQhE4imLoJcwhYn6Uy8KqlgyY3_kFV6t4.png', 'tiny': 'https://api-assets.clashofclans.com/leagues/36/e--YMyIexEQQhE4imLoJcwhYn6Uy8KqlgyY3_kFV6t4.png'}}, 'trophies': 2230, 'builderBaseTrophies': 1684, 'clanRank': 6, 'previousClanRank': 6, 'donations': 50, 'donationsReceived': 0, 'playerHouse': {'elements': [{'type': 'ground', 'id': 82000001}, {'type': 'walls', 'id': 82000053}, {'type': 'roof', 'id': 82000016}, {'type': 'decoration', 'id': 82000062}]}, 'builderBaseLeague': {'id': 44000016, 'name': 'Copper League IV'}}, {'tag': '#GP08JGV89', 'name': 'ravindra', 'role': 'coLeader', 'townHallLevel': 11, 'expLevel': 89, 'league': {'id': 29000011, 'name': 'Crystal League II', 'iconUrls': {'small': 'https://api-assets.clashofclans.com/leagues/72/jhP36EhAA9n1ADafdQtCP-ztEAQjoRpY7cT8sU7SW8A.png', 'tiny': 'https://api-assets.clashofclans.com/leagues/36/jhP36EhAA9n1ADafdQtCP-ztEAQjoRpY7cT8sU7SW8A.png', 'medium': 'https://api-assets.clashofclans.com/leagues/288/jhP36EhAA9n1ADafdQtCP-ztEAQjoRpY7cT8sU7SW8A.png'}}, 'trophies': 2159, 'builderBaseTrophies': 1703, 'clanRank': 7, 'previousClanRank': 7, 'donations': 121, 'donationsReceived': 0, 'playerHouse': {'elements': [{'type': 'ground', 'id': 82000000}, {'type': 'walls', 'id': 82000048}, {'type': 'roof', 'id': 82000009}, {'type': 'decoration', 'id': 82000058}]}, 'builderBaseLeague': {'id': 44000017, 'name': 'Copper League III'}}, {'tag': '#GGJYYUPQP', 'name': 'kafeel5', 'role': 'member', 'townHallLevel': 10, 'expLevel': 66, 'league': {'id': 29000010, 'name': 'Crystal League III', 'iconUrls': {'small': 'https://api-assets.clashofclans.com/leagues/72/Hyqco7bHh0Q81xB8mSF_ZhjKnKcTmJ9QEq9QGlsxiKE.png', 'tiny': 'https://api-assets.clashofclans.com/leagues/36/Hyqco7bHh0Q81xB8mSF_ZhjKnKcTmJ9QEq9QGlsxiKE.png', 'medium': 'https://api-assets.clashofclans.com/leagues/288/Hyqco7bHh0Q81xB8mSF_ZhjKnKcTmJ9QEq9QGlsxiKE.png'}}, 'trophies': 1974, 'builderBaseTrophies': 1722, 'clanRank': 8, 'previousClanRank': 8, 'donations': 0, 'donationsReceived': 0, 'playerHouse': {'elements': [{'type': 'ground', 'id': 82000000}, {'type': 'walls', 'id': 82000048}, {'type': 'roof', 'id': 82000009}, {'type': 'decoration', 'id': 82000058}]}, 'builderBaseLeague': {'id': 44000017, 'name': 'Copper League III'}}, {'tag': '#QGVPYV8Q8', 'name': 'asuuu', 'role': 'member', 'townHallLevel': 9, 'expLevel': 71, 'league': {'id': 29000010, 'name': 'Crystal League III', 'iconUrls': {'small': 'https://api-assets.clashofclans.com/leagues/72/Hyqco7bHh0Q81xB8mSF_ZhjKnKcTmJ9QEq9QGlsxiKE.png', 'tiny': 'https://api-assets.clashofclans.com/leagues/36/Hyqco7bHh0Q81xB8mSF_ZhjKnKcTmJ9QEq9QGlsxiKE.png', 'medium': 'https://api-assets.clashofclans.com/leagues/288/Hyqco7bHh0Q81xB8mSF_ZhjKnKcTmJ9QEq9QGlsxiKE.png'}}, 'trophies': 1928, 'builderBaseTrophies': 1400, 'clanRank': 9, 'previousClanRank': 9, 'donations': 51, 'donationsReceived': 314, 'builderBaseLeague': {'id': 44000014, 'name': 'Stone League I'}}, {'tag': '#QV2UUPC00', 'name': 'Bodoh???', 'role': 'coLeader', 'townHallLevel': 11, 'expLevel': 102, 'league': {'id': 29000000, 'name': 'Unranked', 'iconUrls': {'small': 'https://api-assets.clashofclans.com/leagues/72/e--YMyIexEQQhE4imLoJcwhYn6Uy8KqlgyY3_kFV6t4.png', 'tiny': 'https://api-assets.clashofclans.com/leagues/36/e--YMyIexEQQhE4imLoJcwhYn6Uy8KqlgyY3_kFV6t4.png'}}, 'trophies': 1863, 'builderBaseTrophies': 0, 'clanRank': 10, 'previousClanRank': 10, 'donations': 152, 'donationsReceived': 0, 'playerHouse': {'elements': [{'type': 'ground', 'id': 82000000}, {'type': 'walls', 'id': 82000048}, {'type': 'roof', 'id': 82000010}, {'type': 'decoration', 'id': 82000060}]}, 'builderBaseLeague': {'id': 44000000, 'name': 'Wood League V'}}, {'tag': '#G0G0UC98Y', 'name': 'Oke!!!', 'role': 'coLeader', 'townHallLevel': 11, 'expLevel': 101, 'league': {'id': 29000000, 'name': 'Unranked', 'iconUrls': {'small': 'https://api-assets.clashofclans.com/leagues/72/e--YMyIexEQQhE4imLoJcwhYn6Uy8KqlgyY3_kFV6t4.png', 'tiny': 'https://api-assets.clashofclans.com/leagues/36/e--YMyIexEQQhE4imLoJcwhYn6Uy8KqlgyY3_kFV6t4.png'}}, 'trophies': 1715, 'builderBaseTrophies': 365, 'clanRank': 11, 'previousClanRank': 11, 'donations': 32, 'donationsReceived': 0, 'playerHouse': {'elements': [{'type': 'ground', 'id': 82000000}, {'type': 'walls', 'id': 82000048}, {'type': 'roof', 'id': 82000011}, {'type': 'decoration', 'id': 82000059}]}, 'builderBaseLeague': {'id': 44000003, 'name': 'Wood League II'}}, {'tag': '#QULL0PYJL', 'name': 'GOD_M√4™%', 'role': 'member', 'townHallLevel': 11, 'expLevel': 77, 'league': {'id': 29000008, 'name': 'Gold League II', 'iconUrls': {'small': 'https://api-assets.clashofclans.com/leagues/72/Y6CveuHmPM_oiOic2Yet0rYL9AFRYW0WA0u2e44-YbM.png', 'tiny': 'https://api-assets.clashofclans.com/leagues/36/Y6CveuHmPM_oiOic2Yet0rYL9AFRYW0WA0u2e44-YbM.png', 'medium': 'https://api-assets.clashofclans.com/leagues/288/Y6CveuHmPM_oiOic2Yet0rYL9AFRYW0WA0u2e44-YbM.png'}}, 'trophies': 1693, 'builderBaseTrophies': 1683, 'clanRank': 12, 'previousClanRank': 12, 'donations': 0, 'donationsReceived': 0, 'playerHouse': {'elements': [{'type': 'ground', 'id': 82000000}, {'type': 'walls', 'id': 82000048}, {'type': 'roof', 'id': 82000010}, {'type': 'decoration', 'id': 82000058}]}, 'builderBaseLeague': {'id': 44000016, 'name': 'Copper League IV'}}, {'tag': '#G9J09Q8Y8', 'name': 'ravindra1', 'role': 'coLeader', 'townHallLevel': 9, 'expLevel': 52, 'league': {'id': 29000008, 'name': 'Gold League II', 'iconUrls': {'small': 'https://api-assets.clashofclans.com/leagues/72/Y6CveuHmPM_oiOic2Yet0rYL9AFRYW0WA0u2e44-YbM.png', 'tiny': 'https://api-assets.clashofclans.com/leagues/36/Y6CveuHmPM_oiOic2Yet0rYL9AFRYW0WA0u2e44-YbM.png', 'medium': 'https://api-assets.clashofclans.com/leagues/288/Y6CveuHmPM_oiOic2Yet0rYL9AFRYW0WA0u2e44-YbM.png'}}, 'trophies': 1633, 'builderBaseTrophies': 1172, 'clanRank': 13, 'previousClanRank': 14, 'donations': 67, 'donationsReceived': 0, 'playerHouse': {'elements': [{'type': 'ground', 'id': 82000000}, {'type': 'walls', 'id': 82000048}, {'type': 'roof', 'id': 82000009}, {'type': 'decoration', 'id': 82000058}]}, 'builderBaseLeague': {'id': 44000011, 'name': 'Stone League IV'}}, {'tag': '#G0CRYPU9L', 'name': 'kafeel', 'role': 'coLeader', 'townHallLevel': 10, 'expLevel': 86, 'league': {'id': 29000000, 'name': 'Unranked', 'iconUrls': {'small': 'https://api-assets.clashofclans.com/leagues/72/e--YMyIexEQQhE4imLoJcwhYn6Uy8KqlgyY3_kFV6t4.png', 'tiny': 'https://api-assets.clashofclans.com/leagues/36/e--YMyIexEQQhE4imLoJcwhYn6Uy8KqlgyY3_kFV6t4.png'}}, 'trophies': 1625, 'builderBaseTrophies': 2080, 'clanRank': 14, 'previousClanRank': 13, 'donations': 0, 'donationsReceived': 0, 'playerHouse': {'elements': [{'type': 'ground', 'id': 82000000}, {'type': 'walls', 'id': 82000048}, {'type': 'roof', 'id': 82000016}, {'type': 'decoration', 'id': 82000058}]}, 'builderBaseLeague': {'id': 44000020, 'name': 'Brass League III'}}, {'tag': '#G9QLVJ0VC', 'name': \"Qoirun nisak'\", 'role': 'member', 'townHallLevel': 12, 'expLevel': 67, 'league': {'id': 29000007, 'name': 'Gold League III', 'iconUrls': {'small': 'https://api-assets.clashofclans.com/leagues/72/vd4Lhz5b2I1P0cLH25B6q63JN3Wt1j2NTMhOYpMPQ4M.png', 'tiny': 'https://api-assets.clashofclans.com/leagues/36/vd4Lhz5b2I1P0cLH25B6q63JN3Wt1j2NTMhOYpMPQ4M.png', 'medium': 'https://api-assets.clashofclans.com/leagues/288/vd4Lhz5b2I1P0cLH25B6q63JN3Wt1j2NTMhOYpMPQ4M.png'}}, 'trophies': 1386, 'builderBaseTrophies': 907, 'clanRank': 15, 'previousClanRank': 15, 'donations': 5, 'donationsReceived': 0, 'playerHouse': {'elements': [{'type': 'ground', 'id': 82000000}, {'type': 'walls', 'id': 82000048}, {'type': 'roof', 'id': 82000010}, {'type': 'decoration', 'id': 82000063}]}, 'builderBaseLeague': {'id': 44000009, 'name': 'Clay League I'}}, {'tag': '#GYJ92CRU0', 'name': 'kastil botak', 'role': 'admin', 'townHallLevel': 10, 'expLevel': 86, 'league': {'id': 29000000, 'name': 'Unranked', 'iconUrls': {'small': 'https://api-assets.clashofclans.com/leagues/72/e--YMyIexEQQhE4imLoJcwhYn6Uy8KqlgyY3_kFV6t4.png', 'tiny': 'https://api-assets.clashofclans.com/leagues/36/e--YMyIexEQQhE4imLoJcwhYn6Uy8KqlgyY3_kFV6t4.png'}}, 'trophies': 1365, 'builderBaseTrophies': 2147, 'clanRank': 16, 'previousClanRank': 16, 'donations': 0, 'donationsReceived': 0, 'playerHouse': {'elements': [{'type': 'ground', 'id': 82000002}, {'type': 'walls', 'id': 82000049}, {'type': 'roof', 'id': 82000010}, {'type': 'decoration', 'id': 82000060}]}, 'builderBaseLeague': {'id': 44000020, 'name': 'Brass League III'}}, {'tag': '#GR9VJVVUJ', 'name': 'alam', 'role': 'member', 'townHallLevel': 10, 'expLevel': 58, 'league': {'id': 29000000, 'name': 'Unranked', 'iconUrls': {'small': 'https://api-assets.clashofclans.com/leagues/72/e--YMyIexEQQhE4imLoJcwhYn6Uy8KqlgyY3_kFV6t4.png', 'tiny': 'https://api-assets.clashofclans.com/leagues/36/e--YMyIexEQQhE4imLoJcwhYn6Uy8KqlgyY3_kFV6t4.png'}}, 'trophies': 1320, 'builderBaseTrophies': 1758, 'clanRank': 17, 'previousClanRank': 17, 'donations': 0, 'donationsReceived': 0, 'playerHouse': {'elements': [{'type': 'ground', 'id': 82000000}, {'type': 'walls', 'id': 82000048}, {'type': 'roof', 'id': 82000010}, {'type': 'decoration', 'id': 82000060}]}, 'builderBaseLeague': {'id': 44000017, 'name': 'Copper League III'}}, {'tag': '#GYYP9V2JR', 'name': 'kastil mulet', 'role': 'member', 'townHallLevel': 12, 'expLevel': 48, 'league': {'id': 29000006, 'name': 'Silver League I', 'iconUrls': {'small': 'https://api-assets.clashofclans.com/leagues/72/nvrBLvCK10elRHmD1g9w5UU1flDRMhYAojMB2UbYfPs.png', 'tiny': 'https://api-assets.clashofclans.com/leagues/36/nvrBLvCK10elRHmD1g9w5UU1flDRMhYAojMB2UbYfPs.png', 'medium': 'https://api-assets.clashofclans.com/leagues/288/nvrBLvCK10elRHmD1g9w5UU1flDRMhYAojMB2UbYfPs.png'}}, 'trophies': 1262, 'builderBaseTrophies': 1060, 'clanRank': 18, 'previousClanRank': 18, 'donations': 0, 'donationsReceived': 0, 'playerHouse': {'elements': [{'type': 'ground', 'id': 82000000}, {'type': 'walls', 'id': 82000048}, {'type': 'roof', 'id': 82000011}, {'type': 'decoration', 'id': 82000059}]}, 'builderBaseLeague': {'id': 44000010, 'name': 'Stone League V'}}, {'tag': '#G92URJU0P', 'name': '-???-', 'role': 'admin', 'townHallLevel': 9, 'expLevel': 61, 'league': {'id': 29000006, 'name': 'Silver League I', 'iconUrls': {'small': 'https://api-assets.clashofclans.com/leagues/72/nvrBLvCK10elRHmD1g9w5UU1flDRMhYAojMB2UbYfPs.png', 'tiny': 'https://api-assets.clashofclans.com/leagues/36/nvrBLvCK10elRHmD1g9w5UU1flDRMhYAojMB2UbYfPs.png', 'medium': 'https://api-assets.clashofclans.com/leagues/288/nvrBLvCK10elRHmD1g9w5UU1flDRMhYAojMB2UbYfPs.png'}}, 'trophies': 1219, 'builderBaseTrophies': 1322, 'clanRank': 19, 'previousClanRank': 19, 'donations': 0, 'donationsReceived': 0, 'playerHouse': {'elements': [{'type': 'ground', 'id': 82000000}, {'type': 'walls', 'id': 82000048}, {'type': 'roof', 'id': 82000013}, {'type': 'decoration', 'id': 82000058}]}, 'builderBaseLeague': {'id': 44000013, 'name': 'Stone League II'}}, {'tag': '#GL20P2R99', 'name': 'EKKI GG', 'role': 'member', 'townHallLevel': 9, 'expLevel': 62, 'league': {'id': 29000000, 'name': 'Unranked', 'iconUrls': {'small': 'https://api-assets.clashofclans.com/leagues/72/e--YMyIexEQQhE4imLoJcwhYn6Uy8KqlgyY3_kFV6t4.png', 'tiny': 'https://api-assets.clashofclans.com/leagues/36/e--YMyIexEQQhE4imLoJcwhYn6Uy8KqlgyY3_kFV6t4.png'}}, 'trophies': 1208, 'builderBaseTrophies': 1712, 'clanRank': 20, 'previousClanRank': 20, 'donations': 0, 'donationsReceived': 0, 'playerHouse': {'elements': [{'type': 'ground', 'id': 82000001}, {'type': 'walls', 'id': 82000049}, {'type': 'roof', 'id': 82000017}, {'type': 'decoration', 'id': 82000062}]}, 'builderBaseLeague': {'id': 44000017, 'name': 'Copper League III'}}, {'tag': '#G2CC9R822', 'name': 'kafeel-3', 'role': 'admin', 'townHallLevel': 9, 'expLevel': 60, 'league': {'id': 29000000, 'name': 'Unranked', 'iconUrls': {'small': 'https://api-assets.clashofclans.com/leagues/72/e--YMyIexEQQhE4imLoJcwhYn6Uy8KqlgyY3_kFV6t4.png', 'tiny': 'https://api-assets.clashofclans.com/leagues/36/e--YMyIexEQQhE4imLoJcwhYn6Uy8KqlgyY3_kFV6t4.png'}}, 'trophies': 1195, 'builderBaseTrophies': 1145, 'clanRank': 21, 'previousClanRank': 21, 'donations': 0, 'donationsReceived': 0, 'playerHouse': {'elements': [{'type': 'ground', 'id': 82000000}, {'type': 'walls', 'id': 82000048}, {'type': 'roof', 'id': 82000013}, {'type': 'decoration', 'id': 82000058}]}, 'builderBaseLeague': {'id': 44000011, 'name': 'Stone League IV'}}, {'tag': '#GGR8JVLVP', 'name': 'けんや', 'role': 'member', 'townHallLevel': 13, 'expLevel': 71, 'league': {'id': 29000005, 'name': 'Silver League II', 'iconUrls': {'small': 'https://api-assets.clashofclans.com/leagues/72/8OhXcwDJkenBH2kPH73eXftFOpHHRF-b32n0yrTqC44.png', 'tiny': 'https://api-assets.clashofclans.com/leagues/36/8OhXcwDJkenBH2kPH73eXftFOpHHRF-b32n0yrTqC44.png', 'medium': 'https://api-assets.clashofclans.com/leagues/288/8OhXcwDJkenBH2kPH73eXftFOpHHRF-b32n0yrTqC44.png'}}, 'trophies': 1153, 'builderBaseTrophies': 1498, 'clanRank': 22, 'previousClanRank': 23, 'donations': 0, 'donationsReceived': 263, 'builderBaseLeague': {'id': 44000014, 'name': 'Stone League I'}}, {'tag': '#QJ08JG8LL', 'name': 'Kenan', 'role': 'member', 'townHallLevel': 9, 'expLevel': 73, 'league': {'id': 29000005, 'name': 'Silver League II', 'iconUrls': {'small': 'https://api-assets.clashofclans.com/leagues/72/8OhXcwDJkenBH2kPH73eXftFOpHHRF-b32n0yrTqC44.png', 'tiny': 'https://api-assets.clashofclans.com/leagues/36/8OhXcwDJkenBH2kPH73eXftFOpHHRF-b32n0yrTqC44.png', 'medium': 'https://api-assets.clashofclans.com/leagues/288/8OhXcwDJkenBH2kPH73eXftFOpHHRF-b32n0yrTqC44.png'}}, 'trophies': 1125, 'builderBaseTrophies': 1809, 'clanRank': 23, 'previousClanRank': 22, 'donations': 0, 'donationsReceived': 60, 'playerHouse': {'elements': [{'type': 'ground', 'id': 82000001}, {'type': 'walls', 'id': 82000049}, {'type': 'roof', 'id': 82000014}, {'type': 'decoration', 'id': 82000062}]}, 'builderBaseLeague': {'id': 44000018, 'name': 'Copper League II'}}, {'tag': '#G98889CVU', 'name': 'kafeel1', 'role': 'admin', 'townHallLevel': 9, 'expLevel': 60, 'league': {'id': 29000000, 'name': 'Unranked', 'iconUrls': {'small': 'https://api-assets.clashofclans.com/leagues/72/e--YMyIexEQQhE4imLoJcwhYn6Uy8KqlgyY3_kFV6t4.png', 'tiny': 'https://api-assets.clashofclans.com/leagues/36/e--YMyIexEQQhE4imLoJcwhYn6Uy8KqlgyY3_kFV6t4.png'}}, 'trophies': 1096, 'builderBaseTrophies': 1256, 'clanRank': 24, 'previousClanRank': 24, 'donations': 0, 'donationsReceived': 0, 'playerHouse': {'elements': [{'type': 'ground', 'id': 82000000}, {'type': 'walls', 'id': 82000048}, {'type': 'roof', 'id': 82000013}, {'type': 'decoration', 'id': 82000058}]}, 'builderBaseLeague': {'id': 44000012, 'name': 'Stone League III'}}, {'tag': '#QCUCU8Y9J', 'name': 'kafeel-2', 'role': 'admin', 'townHallLevel': 9, 'expLevel': 60, 'league': {'id': 29000000, 'name': 'Unranked', 'iconUrls': {'small': 'https://api-assets.clashofclans.com/leagues/72/e--YMyIexEQQhE4imLoJcwhYn6Uy8KqlgyY3_kFV6t4.png', 'tiny': 'https://api-assets.clashofclans.com/leagues/36/e--YMyIexEQQhE4imLoJcwhYn6Uy8KqlgyY3_kFV6t4.png'}}, 'trophies': 1096, 'builderBaseTrophies': 1113, 'clanRank': 25, 'previousClanRank': 25, 'donations': 0, 'donationsReceived': 0, 'playerHouse': {'elements': [{'type': 'ground', 'id': 82000000}, {'type': 'walls', 'id': 82000048}, {'type': 'roof', 'id': 82000010}, {'type': 'decoration', 'id': 82000058}]}, 'builderBaseLeague': {'id': 44000011, 'name': 'Stone League IV'}}, {'tag': '#G9JRLJP8', 'name': 'XTREME GAMER HR', 'role': 'member', 'townHallLevel': 9, 'expLevel': 88, 'league': {'id': 29000005, 'name': 'Silver League II', 'iconUrls': {'small': 'https://api-assets.clashofclans.com/leagues/72/8OhXcwDJkenBH2kPH73eXftFOpHHRF-b32n0yrTqC44.png', 'tiny': 'https://api-assets.clashofclans.com/leagues/36/8OhXcwDJkenBH2kPH73eXftFOpHHRF-b32n0yrTqC44.png', 'medium': 'https://api-assets.clashofclans.com/leagues/288/8OhXcwDJkenBH2kPH73eXftFOpHHRF-b32n0yrTqC44.png'}}, 'trophies': 1082, 'builderBaseTrophies': 1750, 'clanRank': 26, 'previousClanRank': 26, 'donations': 84, 'donationsReceived': 61, 'playerHouse': {'elements': [{'type': 'ground', 'id': 82000000}, {'type': 'walls', 'id': 82000048}, {'type': 'roof', 'id': 82000009}, {'type': 'decoration', 'id': 82000058}]}, 'builderBaseLeague': {'id': 44000017, 'name': 'Copper League III'}}, {'tag': '#QU808R28R', 'name': \"Adnan's Dorf\", 'role': 'member', 'townHallLevel': 9, 'expLevel': 65, 'league': {'id': 29000005, 'name': 'Silver League II', 'iconUrls': {'small': 'https://api-assets.clashofclans.com/leagues/72/8OhXcwDJkenBH2kPH73eXftFOpHHRF-b32n0yrTqC44.png', 'tiny': 'https://api-assets.clashofclans.com/leagues/36/8OhXcwDJkenBH2kPH73eXftFOpHHRF-b32n0yrTqC44.png', 'medium': 'https://api-assets.clashofclans.com/leagues/288/8OhXcwDJkenBH2kPH73eXftFOpHHRF-b32n0yrTqC44.png'}}, 'trophies': 1074, 'builderBaseTrophies': 1857, 'clanRank': 27, 'previousClanRank': 27, 'donations': 0, 'donationsReceived': 0, 'playerHouse': {'elements': [{'type': 'ground', 'id': 82000001}, {'type': 'walls', 'id': 82000048}, {'type': 'roof', 'id': 82000017}, {'type': 'decoration', 'id': 82000062}]}, 'builderBaseLeague': {'id': 44000018, 'name': 'Copper League II'}}, {'tag': '#G0QLC8R08', 'name': 'K E N Z O', 'role': 'member', 'townHallLevel': 11, 'expLevel': 49, 'league': {'id': 29000000, 'name': 'Unranked', 'iconUrls': {'small': 'https://api-assets.clashofclans.com/leagues/72/e--YMyIexEQQhE4imLoJcwhYn6Uy8KqlgyY3_kFV6t4.png', 'tiny': 'https://api-assets.clashofclans.com/leagues/36/e--YMyIexEQQhE4imLoJcwhYn6Uy8KqlgyY3_kFV6t4.png'}}, 'trophies': 990, 'builderBaseTrophies': 0, 'clanRank': 28, 'previousClanRank': 28, 'donations': 0, 'donationsReceived': 0, 'playerHouse': {'elements': [{'type': 'ground', 'id': 82000001}, {'type': 'walls', 'id': 82000049}, {'type': 'roof', 'id': 82000017}, {'type': 'decoration', 'id': 82000062}]}, 'builderBaseLeague': {'id': 44000000, 'name': 'Wood League V'}}, {'tag': '#GRQRPCLQQ', 'name': 'konoha48', 'role': 'member', 'townHallLevel': 9, 'expLevel': 53, 'league': {'id': 29000000, 'name': 'Unranked', 'iconUrls': {'small': 'https://api-assets.clashofclans.com/leagues/72/e--YMyIexEQQhE4imLoJcwhYn6Uy8KqlgyY3_kFV6t4.png', 'tiny': 'https://api-assets.clashofclans.com/leagues/36/e--YMyIexEQQhE4imLoJcwhYn6Uy8KqlgyY3_kFV6t4.png'}}, 'trophies': 966, 'builderBaseTrophies': 419, 'clanRank': 29, 'previousClanRank': 29, 'donations': 0, 'donationsReceived': 0, 'playerHouse': {'elements': [{'type': 'ground', 'id': 82000000}, {'type': 'walls', 'id': 82000048}, {'type': 'roof', 'id': 82000011}, {'type': 'decoration', 'id': 82000058}]}, 'builderBaseLeague': {'id': 44000004, 'name': 'Wood League I'}}, {'tag': '#QC0G20Q80', 'name': 'DarkWolf', 'role': 'member', 'townHallLevel': 9, 'expLevel': 66, 'league': {'id': 29000000, 'name': 'Unranked', 'iconUrls': {'small': 'https://api-assets.clashofclans.com/leagues/72/e--YMyIexEQQhE4imLoJcwhYn6Uy8KqlgyY3_kFV6t4.png', 'tiny': 'https://api-assets.clashofclans.com/leagues/36/e--YMyIexEQQhE4imLoJcwhYn6Uy8KqlgyY3_kFV6t4.png'}}, 'trophies': 894, 'builderBaseTrophies': 1567, 'clanRank': 30, 'previousClanRank': 30, 'donations': 1, 'donationsReceived': 0, 'playerHouse': {'elements': [{'type': 'ground', 'id': 82000000}, {'type': 'walls', 'id': 82000048}, {'type': 'roof', 'id': 82000011}, {'type': 'decoration', 'id': 82000061}]}, 'builderBaseLeague': {'id': 44000015, 'name': 'Copper League V'}}, {'tag': '#GRGLQGPP9', 'name': 'novi', 'role': 'member', 'townHallLevel': 9, 'expLevel': 56, 'league': {'id': 29000004, 'name': 'Silver League III', 'iconUrls': {'small': 'https://api-assets.clashofclans.com/leagues/72/QcFBfoArnafaXCnB5OfI7vESpQEBuvWtzOyLq8gJzVc.png', 'tiny': 'https://api-assets.clashofclans.com/leagues/36/QcFBfoArnafaXCnB5OfI7vESpQEBuvWtzOyLq8gJzVc.png', 'medium': 'https://api-assets.clashofclans.com/leagues/288/QcFBfoArnafaXCnB5OfI7vESpQEBuvWtzOyLq8gJzVc.png'}}, 'trophies': 887, 'builderBaseTrophies': 1890, 'clanRank': 31, 'previousClanRank': 31, 'donations': 0, 'donationsReceived': 45, 'playerHouse': {'elements': [{'type': 'ground', 'id': 82000000}, {'type': 'walls', 'id': 82000048}, {'type': 'roof', 'id': 82000009}, {'type': 'decoration', 'id': 82000058}]}, 'builderBaseLeague': {'id': 44000018, 'name': 'Copper League II'}}, {'tag': '#GL9L9RPLJ', 'name': 'Bh', 'role': 'member', 'townHallLevel': 8, 'expLevel': 54, 'league': {'id': 29000004, 'name': 'Silver League III', 'iconUrls': {'small': 'https://api-assets.clashofclans.com/leagues/72/QcFBfoArnafaXCnB5OfI7vESpQEBuvWtzOyLq8gJzVc.png', 'tiny': 'https://api-assets.clashofclans.com/leagues/36/QcFBfoArnafaXCnB5OfI7vESpQEBuvWtzOyLq8gJzVc.png', 'medium': 'https://api-assets.clashofclans.com/leagues/288/QcFBfoArnafaXCnB5OfI7vESpQEBuvWtzOyLq8gJzVc.png'}}, 'trophies': 868, 'builderBaseTrophies': 1192, 'clanRank': 32, 'previousClanRank': 32, 'donations': 0, 'donationsReceived': 160, 'playerHouse': {'elements': [{'type': 'ground', 'id': 82000000}, {'type': 'walls', 'id': 82000048}, {'type': 'roof', 'id': 82000009}, {'type': 'decoration', 'id': 82000059}]}, 'builderBaseLeague': {'id': 44000011, 'name': 'Stone League IV'}}, {'tag': '#LR88JULQL', 'name': 'Jake', 'role': 'member', 'townHallLevel': 9, 'expLevel': 60, 'league': {'id': 29000000, 'name': 'Unranked', 'iconUrls': {'small': 'https://api-assets.clashofclans.com/leagues/72/e--YMyIexEQQhE4imLoJcwhYn6Uy8KqlgyY3_kFV6t4.png', 'tiny': 'https://api-assets.clashofclans.com/leagues/36/e--YMyIexEQQhE4imLoJcwhYn6Uy8KqlgyY3_kFV6t4.png'}}, 'trophies': 832, 'builderBaseTrophies': 1342, 'clanRank': 33, 'previousClanRank': 33, 'donations': 0, 'donationsReceived': 0, 'playerHouse': {'elements': [{'type': 'ground', 'id': 82000000}, {'type': 'walls', 'id': 82000048}, {'type': 'roof', 'id': 82000009}, {'type': 'decoration', 'id': 82000059}]}, 'builderBaseLeague': {'id': 44000013, 'name': 'Stone League II'}}, {'tag': '#20VL08VGP', 'name': 'antonio', 'role': 'member', 'townHallLevel': 9, 'expLevel': 59, 'league': {'id': 29000004, 'name': 'Silver League III', 'iconUrls': {'small': 'https://api-assets.clashofclans.com/leagues/72/QcFBfoArnafaXCnB5OfI7vESpQEBuvWtzOyLq8gJzVc.png', 'tiny': 'https://api-assets.clashofclans.com/leagues/36/QcFBfoArnafaXCnB5OfI7vESpQEBuvWtzOyLq8gJzVc.png', 'medium': 'https://api-assets.clashofclans.com/leagues/288/QcFBfoArnafaXCnB5OfI7vESpQEBuvWtzOyLq8gJzVc.png'}}, 'trophies': 824, 'builderBaseTrophies': 1663, 'clanRank': 34, 'previousClanRank': 34, 'donations': 0, 'donationsReceived': 0, 'builderBaseLeague': {'id': 44000016, 'name': 'Copper League IV'}}, {'tag': '#Y8JL9R28P', 'name': 'YuTi', 'role': 'member', 'townHallLevel': 8, 'expLevel': 43, 'league': {'id': 29000000, 'name': 'Unranked', 'iconUrls': {'small': 'https://api-assets.clashofclans.com/leagues/72/e--YMyIexEQQhE4imLoJcwhYn6Uy8KqlgyY3_kFV6t4.png', 'tiny': 'https://api-assets.clashofclans.com/leagues/36/e--YMyIexEQQhE4imLoJcwhYn6Uy8KqlgyY3_kFV6t4.png'}}, 'trophies': 754, 'builderBaseTrophies': 1143, 'clanRank': 35, 'previousClanRank': 35, 'donations': 0, 'donationsReceived': 0, 'playerHouse': {'elements': [{'type': 'ground', 'id': 82000000}, {'type': 'walls', 'id': 82000048}, {'type': 'roof', 'id': 82000011}, {'type': 'decoration', 'id': 82000058}]}, 'builderBaseLeague': {'id': 44000011, 'name': 'Stone League IV'}}, {'tag': '#GQ0RJQR89', 'name': 'pepe__gb', 'role': 'member', 'townHallLevel': 7, 'expLevel': 36, 'league': {'id': 29000000, 'name': 'Unranked', 'iconUrls': {'small': 'https://api-assets.clashofclans.com/leagues/72/e--YMyIexEQQhE4imLoJcwhYn6Uy8KqlgyY3_kFV6t4.png', 'tiny': 'https://api-assets.clashofclans.com/leagues/36/e--YMyIexEQQhE4imLoJcwhYn6Uy8KqlgyY3_kFV6t4.png'}}, 'trophies': 701, 'builderBaseTrophies': 232, 'clanRank': 36, 'previousClanRank': 36, 'donations': 0, 'donationsReceived': 0, 'playerHouse': {'elements': [{'type': 'ground', 'id': 82000000}, {'type': 'walls', 'id': 82000048}, {'type': 'roof', 'id': 82000011}, {'type': 'decoration', 'id': 82000058}]}, 'builderBaseLeague': {'id': 44000002, 'name': 'Wood League III'}}, {'tag': '#GQ98PCY9J', 'name': 'Bleexx', 'role': 'member', 'townHallLevel': 6, 'expLevel': 38, 'league': {'id': 29000000, 'name': 'Unranked', 'iconUrls': {'small': 'https://api-assets.clashofclans.com/leagues/72/e--YMyIexEQQhE4imLoJcwhYn6Uy8KqlgyY3_kFV6t4.png', 'tiny': 'https://api-assets.clashofclans.com/leagues/36/e--YMyIexEQQhE4imLoJcwhYn6Uy8KqlgyY3_kFV6t4.png'}}, 'trophies': 696, 'builderBaseTrophies': 1377, 'clanRank': 37, 'previousClanRank': 37, 'donations': 0, 'donationsReceived': 0, 'builderBaseLeague': {'id': 44000013, 'name': 'Stone League II'}}, {'tag': '#GLG00RQYG', 'name': 'fororoman', 'role': 'member', 'townHallLevel': 7, 'expLevel': 51, 'league': {'id': 29000003, 'name': 'Bronze League I', 'iconUrls': {'small': 'https://api-assets.clashofclans.com/leagues/72/SZIXZHZxfHTmgseKCH6T5hvMQ3JQM-Js2QfpC9A3ya0.png', 'tiny': 'https://api-assets.clashofclans.com/leagues/36/SZIXZHZxfHTmgseKCH6T5hvMQ3JQM-Js2QfpC9A3ya0.png', 'medium': 'https://api-assets.clashofclans.com/leagues/288/SZIXZHZxfHTmgseKCH6T5hvMQ3JQM-Js2QfpC9A3ya0.png'}}, 'trophies': 693, 'builderBaseTrophies': 1839, 'clanRank': 38, 'previousClanRank': 38, 'donations': 0, 'donationsReceived': 0, 'playerHouse': {'elements': [{'type': 'ground', 'id': 82000000}, {'type': 'walls', 'id': 82000048}, {'type': 'roof', 'id': 82000010}, {'type': 'decoration', 'id': 82000063}]}, 'builderBaseLeague': {'id': 44000018, 'name': 'Copper League II'}}, {'tag': '#QURYQYQ02', 'name': 'UCHIHA MADARA', 'role': 'member', 'townHallLevel': 6, 'expLevel': 26, 'league': {'id': 29000000, 'name': 'Unranked', 'iconUrls': {'small': 'https://api-assets.clashofclans.com/leagues/72/e--YMyIexEQQhE4imLoJcwhYn6Uy8KqlgyY3_kFV6t4.png', 'tiny': 'https://api-assets.clashofclans.com/leagues/36/e--YMyIexEQQhE4imLoJcwhYn6Uy8KqlgyY3_kFV6t4.png'}}, 'trophies': 665, 'builderBaseTrophies': 40, 'clanRank': 39, 'previousClanRank': 39, 'donations': 0, 'donationsReceived': 0, 'builderBaseLeague': {'id': 44000000, 'name': 'Wood League V'}}, {'tag': '#GRGVRUG2J', 'name': 'TOJE', 'role': 'member', 'townHallLevel': 6, 'expLevel': 26, 'league': {'id': 29000003, 'name': 'Bronze League I', 'iconUrls': {'small': 'https://api-assets.clashofclans.com/leagues/72/SZIXZHZxfHTmgseKCH6T5hvMQ3JQM-Js2QfpC9A3ya0.png', 'tiny': 'https://api-assets.clashofclans.com/leagues/36/SZIXZHZxfHTmgseKCH6T5hvMQ3JQM-Js2QfpC9A3ya0.png', 'medium': 'https://api-assets.clashofclans.com/leagues/288/SZIXZHZxfHTmgseKCH6T5hvMQ3JQM-Js2QfpC9A3ya0.png'}}, 'trophies': 658, 'builderBaseTrophies': 192, 'clanRank': 40, 'previousClanRank': 40, 'donations': 0, 'donationsReceived': 0, 'builderBaseLeague': {'id': 44000001, 'name': 'Wood League IV'}}, {'tag': '#GQY0UCY0R', 'name': 'INDRA sajo', 'role': 'member', 'townHallLevel': 6, 'expLevel': 30, 'league': {'id': 29000000, 'name': 'Unranked', 'iconUrls': {'small': 'https://api-assets.clashofclans.com/leagues/72/e--YMyIexEQQhE4imLoJcwhYn6Uy8KqlgyY3_kFV6t4.png', 'tiny': 'https://api-assets.clashofclans.com/leagues/36/e--YMyIexEQQhE4imLoJcwhYn6Uy8KqlgyY3_kFV6t4.png'}}, 'trophies': 608, 'builderBaseTrophies': 481, 'clanRank': 41, 'previousClanRank': 41, 'donations': 0, 'donationsReceived': 0, 'builderBaseLeague': {'id': 44000004, 'name': 'Wood League I'}}, {'tag': '#GLCQCLJJG', 'name': 'KAPTEN WARRIOR', 'role': 'member', 'townHallLevel': 5, 'expLevel': 25, 'league': {'id': 29000000, 'name': 'Unranked', 'iconUrls': {'small': 'https://api-assets.clashofclans.com/leagues/72/e--YMyIexEQQhE4imLoJcwhYn6Uy8KqlgyY3_kFV6t4.png', 'tiny': 'https://api-assets.clashofclans.com/leagues/36/e--YMyIexEQQhE4imLoJcwhYn6Uy8KqlgyY3_kFV6t4.png'}}, 'trophies': 590, 'builderBaseTrophies': 80, 'clanRank': 42, 'previousClanRank': 42, 'donations': 0, 'donationsReceived': 0, 'builderBaseLeague': {'id': 44000000, 'name': 'Wood League V'}}, {'tag': '#GLVUPU2UU', 'name': 'Luis', 'role': 'member', 'townHallLevel': 5, 'expLevel': 13, 'league': {'id': 29000002, 'name': 'Bronze League II', 'iconUrls': {'small': 'https://api-assets.clashofclans.com/leagues/72/U2acNDRaR5rQDu4Z6pQKaGcjWm9dkSnHMAPZCXrHPB4.png', 'tiny': 'https://api-assets.clashofclans.com/leagues/36/U2acNDRaR5rQDu4Z6pQKaGcjWm9dkSnHMAPZCXrHPB4.png', 'medium': 'https://api-assets.clashofclans.com/leagues/288/U2acNDRaR5rQDu4Z6pQKaGcjWm9dkSnHMAPZCXrHPB4.png'}}, 'trophies': 510, 'builderBaseTrophies': 79, 'clanRank': 43, 'previousClanRank': 43, 'donations': 0, 'donationsReceived': 0, 'builderBaseLeague': {'id': 44000000, 'name': 'Wood League V'}}, {'tag': '#GQ20PR898', 'name': 'nakim', 'role': 'member', 'townHallLevel': 4, 'expLevel': 13, 'league': {'id': 29000000, 'name': 'Unranked', 'iconUrls': {'small': 'https://api-assets.clashofclans.com/leagues/72/e--YMyIexEQQhE4imLoJcwhYn6Uy8KqlgyY3_kFV6t4.png', 'tiny': 'https://api-assets.clashofclans.com/leagues/36/e--YMyIexEQQhE4imLoJcwhYn6Uy8KqlgyY3_kFV6t4.png'}}, 'trophies': 458, 'builderBaseTrophies': 548, 'clanRank': 44, 'previousClanRank': 44, 'donations': 0, 'donationsReceived': 0, 'builderBaseLeague': {'id': 44000005, 'name': 'Clay League V'}}, {'tag': '#GPCGU0PVG', 'name': 'lutfi', 'role': 'member', 'townHallLevel': 4, 'expLevel': 12, 'league': {'id': 29000002, 'name': 'Bronze League II', 'iconUrls': {'small': 'https://api-assets.clashofclans.com/leagues/72/U2acNDRaR5rQDu4Z6pQKaGcjWm9dkSnHMAPZCXrHPB4.png', 'tiny': 'https://api-assets.clashofclans.com/leagues/36/U2acNDRaR5rQDu4Z6pQKaGcjWm9dkSnHMAPZCXrHPB4.png', 'medium': 'https://api-assets.clashofclans.com/leagues/288/U2acNDRaR5rQDu4Z6pQKaGcjWm9dkSnHMAPZCXrHPB4.png'}}, 'trophies': 455, 'builderBaseTrophies': 80, 'clanRank': 45, 'previousClanRank': 45, 'donations': 0, 'donationsReceived': 0, 'builderBaseLeague': {'id': 44000000, 'name': 'Wood League V'}}, {'tag': '#G2JYVPV00', 'name': 'DARK VADER', 'role': 'member', 'townHallLevel': 4, 'expLevel': 14, 'league': {'id': 29000000, 'name': 'Unranked', 'iconUrls': {'small': 'https://api-assets.clashofclans.com/leagues/72/e--YMyIexEQQhE4imLoJcwhYn6Uy8KqlgyY3_kFV6t4.png', 'tiny': 'https://api-assets.clashofclans.com/leagues/36/e--YMyIexEQQhE4imLoJcwhYn6Uy8KqlgyY3_kFV6t4.png'}}, 'trophies': 449, 'builderBaseTrophies': 406, 'clanRank': 46, 'previousClanRank': 46, 'donations': 0, 'donationsReceived': 0, 'builderBaseLeague': {'id': 44000004, 'name': 'Wood League I'}}, {'tag': '#GRYJ9UR2L', 'name': 'fic', 'role': 'member', 'townHallLevel': 5, 'expLevel': 12, 'league': {'id': 29000001, 'name': 'Bronze League III', 'iconUrls': {'small': 'https://api-assets.clashofclans.com/leagues/72/uUJDLEdAh7Lwf6YOHmXfNM586ZlEvMju54bTlt2u6EE.png', 'tiny': 'https://api-assets.clashofclans.com/leagues/36/uUJDLEdAh7Lwf6YOHmXfNM586ZlEvMju54bTlt2u6EE.png', 'medium': 'https://api-assets.clashofclans.com/leagues/288/uUJDLEdAh7Lwf6YOHmXfNM586ZlEvMju54bTlt2u6EE.png'}}, 'trophies': 406, 'builderBaseTrophies': 88, 'clanRank': 47, 'previousClanRank': 47, 'donations': 0, 'donationsReceived': 0, 'builderBaseLeague': {'id': 44000000, 'name': 'Wood League V'}}, {'tag': '#GL892YC29', 'name': 'gghjj', 'role': 'member', 'townHallLevel': 4, 'expLevel': 18, 'league': {'id': 29000000, 'name': 'Unranked', 'iconUrls': {'small': 'https://api-assets.clashofclans.com/leagues/72/e--YMyIexEQQhE4imLoJcwhYn6Uy8KqlgyY3_kFV6t4.png', 'tiny': 'https://api-assets.clashofclans.com/leagues/36/e--YMyIexEQQhE4imLoJcwhYn6Uy8KqlgyY3_kFV6t4.png'}}, 'trophies': 356, 'builderBaseTrophies': 534, 'clanRank': 48, 'previousClanRank': 48, 'donations': 0, 'donationsReceived': 0, 'builderBaseLeague': {'id': 44000005, 'name': 'Clay League V'}}, {'tag': '#G8L0Q8CJ0', 'name': 'icha', 'role': 'member', 'townHallLevel': 4, 'expLevel': 13, 'league': {'id': 29000000, 'name': 'Unranked', 'iconUrls': {'small': 'https://api-assets.clashofclans.com/leagues/72/e--YMyIexEQQhE4imLoJcwhYn6Uy8KqlgyY3_kFV6t4.png', 'tiny': 'https://api-assets.clashofclans.com/leagues/36/e--YMyIexEQQhE4imLoJcwhYn6Uy8KqlgyY3_kFV6t4.png'}}, 'trophies': 308, 'builderBaseTrophies': 0, 'clanRank': 49, 'previousClanRank': 49, 'donations': 0, 'donationsReceived': 0, 'builderBaseLeague': {'id': 44000000, 'name': 'Wood League V'}}, {'tag': '#GRR8RPVLY', 'name': 'Kippe', 'role': 'member', 'townHallLevel': 3, 'expLevel': 10, 'league': {'id': 29000000, 'name': 'Unranked', 'iconUrls': {'small': 'https://api-assets.clashofclans.com/leagues/72/e--YMyIexEQQhE4imLoJcwhYn6Uy8KqlgyY3_kFV6t4.png', 'tiny': 'https://api-assets.clashofclans.com/leagues/36/e--YMyIexEQQhE4imLoJcwhYn6Uy8KqlgyY3_kFV6t4.png'}}, 'trophies': 150, 'builderBaseTrophies': 0, 'clanRank': 50, 'previousClanRank': 50, 'donations': 0, 'donationsReceived': 0, 'builderBaseLeague': {'id': 44000000, 'name': 'Wood League V'}}]\n"
     ]
    }
   ],
   "source": [
    "# Replace your API_KEY\n",
    "api_key = ''  \n",
    "\n",
    "# Base URL for the Clash of Clans API clans endpoint\n",
    "base_url = 'https://api.clashofclans.com/v1/clans/'\n",
    "\n",
    "# Header to include in the request\n",
    "headers = {\n",
    "   'Authorization': f'Bearer {api_key}',\n",
    "   'Accept': 'application/json'\n",
    "}\n",
    "\n",
    "# Function to get clan member list for each clan tag\n",
    "def get_clan_members(clan_tags):\n",
    "    clan_members = {}  # Dictionary to store clan members list by clan tag\n",
    "   \n",
    "    for tag in clan_tags:\n",
    "        # Constructing the full URL for the clan members endpoint\n",
    "        full_url = f'{base_url}{tag}/members'\n",
    "        response = requests.get(full_url, headers=headers)\n",
    "        \n",
    "        if response.status_code == 200:\n",
    "            # Successful response\n",
    "            data = response.json()\n",
    "            # Assuming the API returns a list of clan members directly\n",
    "            clan_members[tag] = data.get('items', [])\n",
    "            \n",
    "        else:\n",
    "            # Handle errors or unsuccessful responses\n",
    "            print(f'Failed to fetch clan members for {tag}: HTTP {response.status_code}')\n",
    "            \n",
    "    return clan_members\n",
    "\n",
    "# Get clan members for each tag\n",
    "clan_members_lists = get_clan_members(updated_extracted_tags)\n",
    "\n",
    "# Example: print the result for the first clan\n",
    "first_tag = updated_extracted_tags[0]\n",
    "print(f'Clan members for {first_tag}:', clan_members_lists[first_tag])"
   ]
  },
  {
   "cell_type": "markdown",
   "metadata": {},
   "source": [
    "# Convert the data to a pandas DataFrame"
   ]
  },
  {
   "cell_type": "code",
   "execution_count": 5,
   "metadata": {},
   "outputs": [
    {
     "name": "stdout",
     "output_type": "stream",
     "text": [
      "           Clan Tag                                         Player Tag\n",
      "0      %232QCVGYYRY  {'tag': '#9Y8LQULQC', 'name': 'VE.HELL FORCES'...\n",
      "1      %232QCVGYYRY  {'tag': '#QJV29VQ02', 'name': 'kafeel4', 'role...\n",
      "2      %232QCVGYYRY  {'tag': '#QJVGGV8R0', 'name': 'N-R', 'role': '...\n",
      "3      %232QCVGYYRY  {'tag': '#L98YLG8Y8', 'name': 'Guz Rama', 'rol...\n",
      "4      %232QCVGYYRY  {'tag': '#QJJU8G2RR', 'name': 'BoiledRavioli',...\n",
      "...             ...                                                ...\n",
      "41594  %232QLUQ8J98  {'tag': '#QUQ0QQ9UL', 'name': 'EXODUS⚔️08', 'r...\n",
      "41595  %232QLUQ8J98  {'tag': '#GLJGQYQPQ', 'name': 'TricKy', 'role'...\n",
      "41596  %232QLUQ8J98  {'tag': '#QCCPUJGPU', 'name': 'MīñīmīlīTīā', '...\n",
      "41597  %232QLUQ8J98  {'tag': '#GYU0CJ8LP', 'name': 'YUNO√', 'role':...\n",
      "41598  %232QLUQ8J98  {'tag': '#G9JR8VL9G', 'name': 'skupido', 'role...\n",
      "\n",
      "[41599 rows x 2 columns]\n"
     ]
    }
   ],
   "source": [
    "# Assuming clan_members_lists is your dictionary from the modified get_clan_members function\n",
    "def convert_to_dataframe(clan_members_lists):\n",
    "# Create a list of tuples (clan_tag, player_tag) for all clans\n",
    "    data = [(clan_tag, player_tag) for clan_tag, player_tags in clan_members_lists.items() for player_tag in player_tags]\n",
    "    \n",
    "# Convert the list of tuples into a DataFrame\n",
    "    df = pd.DataFrame(data, columns=['Clan Tag', 'Player Tag'])\n",
    "    \n",
    "    return df\n",
    "\n",
    "# Convert the dictionary to a DataFrame\n",
    "df_clan_members = convert_to_dataframe(clan_members_lists)\n",
    "print(df_clan_members)"
   ]
  },
  {
   "cell_type": "code",
   "execution_count": 6,
   "metadata": {},
   "outputs": [
    {
     "name": "stdout",
     "output_type": "stream",
     "text": [
      "         Clan Tag  Player Tag\n",
      "0      #2QCVGYYRY  #9Y8LQULQC\n",
      "1      #2QCVGYYRY  #QJV29VQ02\n",
      "2      #2QCVGYYRY  #QJVGGV8R0\n",
      "3      #2QCVGYYRY  #L98YLG8Y8\n",
      "4      #2QCVGYYRY  #QJJU8G2RR\n",
      "...           ...         ...\n",
      "41594  #2QLUQ8J98  #QUQ0QQ9UL\n",
      "41595  #2QLUQ8J98  #GLJGQYQPQ\n",
      "41596  #2QLUQ8J98  #QCCPUJGPU\n",
      "41597  #2QLUQ8J98  #GYU0CJ8LP\n",
      "41598  #2QLUQ8J98  #G9JR8VL9G\n",
      "\n",
      "[41599 rows x 2 columns]\n"
     ]
    }
   ],
   "source": [
    "def convert_to_dataframe(clan_members_lists):\n",
    "    # Initialize an empty list to store the data\n",
    "    data = []\n",
    "    \n",
    "    # Loop through each clan tag and its corresponding list of members\n",
    "    for clan_tag, members in clan_members_lists.items():\n",
    "        for member in members:\n",
    "            # For each member, extract the clan tag and the player tag, ensuring the player tag is a string\n",
    "            player_tag = member['tag']  # Assuming 'tag' key exists and its value is the player's tag\n",
    "            data.append((clan_tag, player_tag))\n",
    "    \n",
    "    # Convert the list of tuples into a DataFrame\n",
    "    df = pd.DataFrame(data, columns=['Clan Tag', 'Player Tag'])\n",
    "    \n",
    "    # Optional: Convert clan and player tags to ensure they are URL-friendly\n",
    "    # This step is optional and depends on whether you need to use these tags in URLs\n",
    "    df['Clan Tag'] = df['Clan Tag'].apply(lambda x: x.replace('%23', '#'))\n",
    "    # df['Player Tag'] = df['Player Tag'].apply(lambda x: x.replace('#', '%23'))\n",
    "    \n",
    "    return df\n",
    "\n",
    "# Example usage with your clan_members_lists dictionary\n",
    "# Make sure to replace 'clan_members_lists' with your actual dictionary variable\n",
    "df_clan_members = convert_to_dataframe(clan_members_lists)\n",
    "print(df_clan_members)\n",
    "\n",
    "df_clan_members.to_csv('datasets/clan_and_player_tags.csv', index=False)"
   ]
  },
  {
   "cell_type": "markdown",
   "metadata": {},
   "source": [
    "# Extract Players Information"
   ]
  },
  {
   "cell_type": "code",
   "execution_count": 7,
   "metadata": {},
   "outputs": [
    {
     "name": "stderr",
     "output_type": "stream",
     "text": [
      "Processing batches: 100%|██████████| 42/42 [1:09:58<00:00, 99.96s/it] \n"
     ]
    },
    {
     "name": "stdout",
     "output_type": "stream",
     "text": [
      "Data fetching and processing complete. Results saved to 'Clan_and_Player_Details.csv'\n",
      "Total execution time: 4199.10 seconds\n"
     ]
    }
   ],
   "source": [
    "# Set up logging to file\n",
    "logging.basicConfig(filename='others/error_log.log', level=logging.ERROR, \n",
    "                    format='%(asctime)s - %(levelname)s - %(message)s')\n",
    "\n",
    "# Load the CSV file into a DataFrame\n",
    "df = pd.read_csv('datasets/clan_and_player_tags.csv')  # Update this path to your actual CSV file location\n",
    "\n",
    "# API details\n",
    "api_key = ''\n",
    "headers = {'Authorization': 'Bearer ' + api_key}\n",
    "\n",
    "# Rate limit: 10 requests per second (adjust as needed)\n",
    "@sleep_and_retry\n",
    "@limits(calls=10, period=1)\n",
    "def call_api(url):\n",
    "    response = requests.get(url, headers=headers)\n",
    "    response.raise_for_status()\n",
    "    return response.json()\n",
    "\n",
    "def fetch_player_details(tag):\n",
    "    url = f'https://api.clashofclans.com/v1/players/{tag.replace(\"#\", \"%23\")}'\n",
    "    try:\n",
    "        data = call_api(url)\n",
    "        return {\n",
    "            'name': data.get('name', ''),\n",
    "            'role': data.get('role', ''),\n",
    "            'league': data.get('league', {}).get('name', ''),\n",
    "            'builderBaseLeague': data.get('builderBaseLeague', {}).get('name', ''),\n",
    "            'townHallLevel': data.get('townHallLevel', 0),\n",
    "            'builderHallLevel': data.get('builderHallLevel', 0),\n",
    "            'expLevel': data.get('expLevel', 0),\n",
    "            'trophies': data.get('trophies', 0),\n",
    "            'bestTrophies': data.get('bestTrophies', 0),\n",
    "            'builderBaseTrophies': data.get('builderBaseTrophies', 0),\n",
    "            'bestBuilderBaseTrophies': data.get('bestBuilderBaseTrophies', 0),\n",
    "            'attackWins': data.get('attackWins', 0),\n",
    "            'defenseWins': data.get('defenseWins', 0),\n",
    "            'warStars': data.get('warStars', 0),\n",
    "            'clanCapitalContributions': data.get('clanCapitalContributions', 0),\n",
    "            'donations': data.get('donations', 0),\n",
    "            'donationsReceived': data.get('donationsReceived', 0),\n",
    "        }\n",
    "    except requests.exceptions.RequestException as e:\n",
    "        logging.error(f'Error fetching data for {tag}: {e}')\n",
    "\n",
    "def process_batch(batch):\n",
    "    player_details = []\n",
    "    with ThreadPoolExecutor(max_workers=20) as executor:\n",
    "        future_to_tag = {executor.submit(fetch_player_details, tag): tag for tag in batch}\n",
    "        for future in as_completed(future_to_tag):\n",
    "            tag = future_to_tag[future]\n",
    "            try:\n",
    "                details = future.result()\n",
    "                player_details.append(details)\n",
    "            except Exception as exc:\n",
    "                logging.error(f'{tag} generated an exception: {exc}')\n",
    "    \n",
    "    return player_details\n",
    "\n",
    "def save_checkpoint(data, filename):\n",
    "    with open(filename, 'w') as f:\n",
    "        json.dump(data, f)\n",
    "\n",
    "def load_checkpoint(filename):\n",
    "    try:\n",
    "        with open(filename, 'r') as f:\n",
    "            return json.load(f)\n",
    "    except FileNotFoundError:\n",
    "        return []\n",
    "\n",
    "def main():\n",
    "    batch_size = 1000\n",
    "    checkpoint_file = 'others/player_details_checkpoint.json'\n",
    "    \n",
    "    # Load checkpoint if it exists\n",
    "    player_details = load_checkpoint(checkpoint_file)\n",
    "    start_index = len(player_details)\n",
    "\n",
    "    num_batches = math.ceil((len(df) - start_index) / batch_size)\n",
    "    \n",
    "    for i in tqdm(range(start_index, len(df), batch_size), total=num_batches, desc=\"Processing batches\"):\n",
    "        batch = df['Player Tag'].iloc[i:i+batch_size].tolist()\n",
    "        batch_details = process_batch(batch)\n",
    "        player_details.extend(batch_details)\n",
    "        \n",
    "        # Save checkpoint after each batch\n",
    "        save_checkpoint(player_details, checkpoint_file)\n",
    "\n",
    "     # Filter out None values from player_details\n",
    "    player_details = [detail for detail in player_details if detail is not None]\n",
    "    \n",
    "    # Create a new DataFrame with the player details\n",
    "    details_df = pd.DataFrame(player_details)\n",
    "\n",
    "    # Merge the original DataFrame with the new details DataFrame\n",
    "    final_df = pd.concat([df, details_df], axis=1)\n",
    "\n",
    "    # Save the final DataFrame to a new CSV file\n",
    "    final_df.to_csv('datasets/player_details.csv', index=False)\n",
    "    print(\"Data fetching and processing complete. Results saved to 'Clan_and_Player_Details.csv'\")\n",
    "\n",
    "if __name__ == \"__main__\":\n",
    "    start_time = time.time()\n",
    "    main()\n",
    "    end_time = time.time()\n",
    "    print(f\"Total execution time: {end_time - start_time:.2f} seconds\")"
   ]
  }
 ],
 "metadata": {
  "kernelspec": {
   "display_name": "Python 3",
   "language": "python",
   "name": "python3"
  },
  "language_info": {
   "codemirror_mode": {
    "name": "ipython",
    "version": 3
   },
   "file_extension": ".py",
   "mimetype": "text/x-python",
   "name": "python",
   "nbconvert_exporter": "python",
   "pygments_lexer": "ipython3",
   "version": "3.11.0"
  }
 },
 "nbformat": 4,
 "nbformat_minor": 2
}
